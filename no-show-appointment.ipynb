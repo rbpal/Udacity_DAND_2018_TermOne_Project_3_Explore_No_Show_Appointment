{
 "cells": [
  {
   "cell_type": "code",
   "execution_count": null,
   "metadata": {},
   "outputs": [],
   "source": []
  },
  {
   "cell_type": "markdown",
   "metadata": {},
   "source": [
    "## Dataset Details\n",
    " \n",
    "#### I choose to analysis “No-show appointments” dataset from https://www.kaggle.com/joniarroba/noshowappointments.\n",
    "\n",
    "### Context details and intention\n",
    "#### A person makes a doctor appointment, receives all the instructions and no-show. Who to blame?  From the given dataset, I intend to predict which feature(s) helps patient in keeping the doctor appointment.  \n",
    "\n",
    " \n",
    "### Data Dictionary  \n",
    "\n",
    "- PatientId - Identification of a patient\n",
    "- AppointmentID - Identification of each appointment\n",
    "- Gender = Male or Female . Female is the greater proportion, woman takes way more care of they health in comparison to man.\n",
    "- DataMarcacaoConsulta = The day of the actuall appointment, when they have to visit the doctor. - - - DataAgendamento = The day someone called or registered the appointment, this is before appointment of course.\n",
    "- Age = How old is the patient.\n",
    "- Neighbourhood = Where the appointment takes place.\n",
    "- Scholarship = Ture of False . Details are are at https://en.wikipedia.org/wiki/Bolsa_Fam%C3%ADlia \n",
    "- Hipertension = True or False\n",
    "- Diabetes = True or False \n",
    "- Alcoholism = True or False \n",
    "- Handcap = True or False \n",
    "- SMS_received = 1 or more messages sent to the patient.\n",
    "- No-show = True or False.\n",
    "\n"
   ]
  },
  {
   "cell_type": "code",
   "execution_count": null,
   "metadata": {},
   "outputs": [],
   "source": []
  },
  {
   "cell_type": "code",
   "execution_count": null,
   "metadata": {},
   "outputs": [],
   "source": []
  },
  {
   "cell_type": "markdown",
   "metadata": {},
   "source": [
    "## Question Posed"
   ]
  },
  {
   "cell_type": "markdown",
   "metadata": {
    "collapsed": true
   },
   "source": [
    "#### Q1 : Is nature of ailment is responsible for the patient to \"Show-up\" or \"Not Show-up\" for their scheduled appointment? So I tried to predict by finding probability  if \n",
    "- \"hypertension\"  is responsible for \"No-Show.\"\n",
    "- \"diabetes\"  is responsible for \"No-Show.\"\n",
    "- \"alcoholism\"  is responsible for \"No-Show.\"\n",
    "- \"handicap\"  is responsible for \"No-Show.\"\n",
    "- \"sms_received\"  is responsible for \"No-Show.\"\n",
    "\n",
    "#### Q2 : Is “gender” has to do with patient show up for their scheduled appointment? So, I try to predict if gender  “Female” is more caring/responsible than  gender  “Male.”\n",
    "\n",
    "\n",
    "#### Q3 : Is particular month(s) or day of the week when patient miss appointment. This \"No-Show\" may be due to a cultural or religious event.  Brazil has a fun loving culture (ref:https://www.timeanddate.com/holidays/brazil/) therefore months \"May\" and April may have more \"No-Show\" in comparison to other months. These \"No-Show\" may be because Brazil has days long fun-loving community celebration (ref:https://www.timeanddate.com/holidays/brazil/) therefore months \"May,\" and April may have more \"No-Show\" in comparison to other months.\n"
   ]
  },
  {
   "cell_type": "code",
   "execution_count": null,
   "metadata": {},
   "outputs": [],
   "source": []
  },
  {
   "cell_type": "markdown",
   "metadata": {},
   "source": [
    "## Data Wrangling\n"
   ]
  },
  {
   "cell_type": "code",
   "execution_count": null,
   "metadata": {},
   "outputs": [],
   "source": []
  },
  {
   "cell_type": "markdown",
   "metadata": {},
   "source": [
    "### Import modules"
   ]
  },
  {
   "cell_type": "code",
   "execution_count": 1,
   "metadata": {},
   "outputs": [],
   "source": [
    "import pandas as pd\n",
    "import numpy as np\n",
    "import calendar\n",
    "\n",
    "import matplotlib.pyplot as plt\n",
    "import seaborn as sns\n",
    "sns.set_style('darkgrid')\n",
    "\n",
    "%matplotlib inline\n"
   ]
  },
  {
   "cell_type": "code",
   "execution_count": null,
   "metadata": {},
   "outputs": [],
   "source": []
  },
  {
   "cell_type": "markdown",
   "metadata": {},
   "source": [
    "### Data Wrangling:Import Dataset CSV file for \"No Show Apppointments\""
   ]
  },
  {
   "cell_type": "code",
   "execution_count": 2,
   "metadata": {},
   "outputs": [],
   "source": [
    "df_noshow = pd.read_csv('noshowappointment.csv')"
   ]
  },
  {
   "cell_type": "code",
   "execution_count": null,
   "metadata": {},
   "outputs": [],
   "source": []
  },
  {
   "cell_type": "code",
   "execution_count": 3,
   "metadata": {},
   "outputs": [
    {
     "data": {
      "text/html": [
       "<div>\n",
       "<style>\n",
       "    .dataframe thead tr:only-child th {\n",
       "        text-align: right;\n",
       "    }\n",
       "\n",
       "    .dataframe thead th {\n",
       "        text-align: left;\n",
       "    }\n",
       "\n",
       "    .dataframe tbody tr th {\n",
       "        vertical-align: top;\n",
       "    }\n",
       "</style>\n",
       "<table border=\"1\" class=\"dataframe\">\n",
       "  <thead>\n",
       "    <tr style=\"text-align: right;\">\n",
       "      <th></th>\n",
       "      <th>PatientId</th>\n",
       "      <th>AppointmentID</th>\n",
       "      <th>Gender</th>\n",
       "      <th>ScheduledDay</th>\n",
       "      <th>AppointmentDay</th>\n",
       "      <th>Age</th>\n",
       "      <th>Neighbourhood</th>\n",
       "      <th>Scholarship</th>\n",
       "      <th>Hipertension</th>\n",
       "      <th>Diabetes</th>\n",
       "      <th>Alcoholism</th>\n",
       "      <th>Handcap</th>\n",
       "      <th>SMS_received</th>\n",
       "      <th>No-show</th>\n",
       "    </tr>\n",
       "  </thead>\n",
       "  <tbody>\n",
       "    <tr>\n",
       "      <th>0</th>\n",
       "      <td>2.987250e+13</td>\n",
       "      <td>5642903</td>\n",
       "      <td>F</td>\n",
       "      <td>2016-04-29T18:38:08Z</td>\n",
       "      <td>2016-04-29T00:00:00Z</td>\n",
       "      <td>62</td>\n",
       "      <td>JARDIM DA PENHA</td>\n",
       "      <td>0</td>\n",
       "      <td>1</td>\n",
       "      <td>0</td>\n",
       "      <td>0</td>\n",
       "      <td>0</td>\n",
       "      <td>0</td>\n",
       "      <td>No</td>\n",
       "    </tr>\n",
       "    <tr>\n",
       "      <th>1</th>\n",
       "      <td>5.589978e+14</td>\n",
       "      <td>5642503</td>\n",
       "      <td>M</td>\n",
       "      <td>2016-04-29T16:08:27Z</td>\n",
       "      <td>2016-04-29T00:00:00Z</td>\n",
       "      <td>56</td>\n",
       "      <td>JARDIM DA PENHA</td>\n",
       "      <td>0</td>\n",
       "      <td>0</td>\n",
       "      <td>0</td>\n",
       "      <td>0</td>\n",
       "      <td>0</td>\n",
       "      <td>0</td>\n",
       "      <td>No</td>\n",
       "    </tr>\n",
       "    <tr>\n",
       "      <th>2</th>\n",
       "      <td>4.262962e+12</td>\n",
       "      <td>5642549</td>\n",
       "      <td>F</td>\n",
       "      <td>2016-04-29T16:19:04Z</td>\n",
       "      <td>2016-04-29T00:00:00Z</td>\n",
       "      <td>62</td>\n",
       "      <td>MATA DA PRAIA</td>\n",
       "      <td>0</td>\n",
       "      <td>0</td>\n",
       "      <td>0</td>\n",
       "      <td>0</td>\n",
       "      <td>0</td>\n",
       "      <td>0</td>\n",
       "      <td>No</td>\n",
       "    </tr>\n",
       "  </tbody>\n",
       "</table>\n",
       "</div>"
      ],
      "text/plain": [
       "      PatientId  AppointmentID Gender          ScheduledDay  \\\n",
       "0  2.987250e+13        5642903      F  2016-04-29T18:38:08Z   \n",
       "1  5.589978e+14        5642503      M  2016-04-29T16:08:27Z   \n",
       "2  4.262962e+12        5642549      F  2016-04-29T16:19:04Z   \n",
       "\n",
       "         AppointmentDay  Age    Neighbourhood  Scholarship  Hipertension  \\\n",
       "0  2016-04-29T00:00:00Z   62  JARDIM DA PENHA            0             1   \n",
       "1  2016-04-29T00:00:00Z   56  JARDIM DA PENHA            0             0   \n",
       "2  2016-04-29T00:00:00Z   62    MATA DA PRAIA            0             0   \n",
       "\n",
       "   Diabetes  Alcoholism  Handcap  SMS_received No-show  \n",
       "0         0           0        0             0      No  \n",
       "1         0           0        0             0      No  \n",
       "2         0           0        0             0      No  "
      ]
     },
     "execution_count": 3,
     "metadata": {},
     "output_type": "execute_result"
    }
   ],
   "source": [
    "df_noshow.head(3)"
   ]
  },
  {
   "cell_type": "code",
   "execution_count": null,
   "metadata": {},
   "outputs": [],
   "source": []
  },
  {
   "cell_type": "markdown",
   "metadata": {},
   "source": [
    "#### Data Wrangling:fixing column names"
   ]
  },
  {
   "cell_type": "code",
   "execution_count": null,
   "metadata": {},
   "outputs": [],
   "source": []
  },
  {
   "cell_type": "code",
   "execution_count": 4,
   "metadata": {},
   "outputs": [
    {
     "name": "stdout",
     "output_type": "stream",
     "text": [
      "['patient_id', 'appointment_id', 'gender', 'scheduled_day', 'appointment_day', 'age', 'neighbourhood', 'scholarship', 'hypertension', 'diabetes', 'alcoholism', 'handicap', 'sms_received', 'no_show']\n"
     ]
    }
   ],
   "source": [
    "list_df_noshow_col = df_noshow.columns\n",
    "\n",
    "\n",
    "list_df_noshow_new_col = []\n",
    "for e in list_df_noshow_col:\n",
    "    e = e.lower()\n",
    "    if 'id' in e:\n",
    "        e = e[:-2] + \"_id\"\n",
    "        list_df_noshow_new_col.append(e)\n",
    "        \n",
    "    elif 'day' in e:\n",
    "        e = e[:-3] + \"_day\"\n",
    "        list_df_noshow_new_col.append(e)\n",
    "        \n",
    "    elif 'hipertension' in e:\n",
    "        e = 'hypertension'\n",
    "        list_df_noshow_new_col.append(e)\n",
    "        \n",
    "    elif 'handcap' in e:\n",
    "        e = 'handicap'\n",
    "        list_df_noshow_new_col.append(e)\n",
    "        \n",
    "    elif '_' or '-' in e:\n",
    "        e = e.replace('-','_')\n",
    "        list_df_noshow_new_col.append(e)\n",
    "\n",
    "print(list_df_noshow_new_col)\n",
    "        \n",
    "        "
   ]
  },
  {
   "cell_type": "code",
   "execution_count": 5,
   "metadata": {},
   "outputs": [],
   "source": [
    "# rename column\n",
    "df_noshow.columns = ['patient_id', 'appointment_id', 'gender', 'scheduled_day', 'appointment_day', 'age', 'neighbourhood', 'scholarship', 'hypertension', 'diabetes', 'alcoholism', 'handicap', 'sms_received', 'no_show']"
   ]
  },
  {
   "cell_type": "code",
   "execution_count": 6,
   "metadata": {},
   "outputs": [
    {
     "data": {
      "text/html": [
       "<div>\n",
       "<style>\n",
       "    .dataframe thead tr:only-child th {\n",
       "        text-align: right;\n",
       "    }\n",
       "\n",
       "    .dataframe thead th {\n",
       "        text-align: left;\n",
       "    }\n",
       "\n",
       "    .dataframe tbody tr th {\n",
       "        vertical-align: top;\n",
       "    }\n",
       "</style>\n",
       "<table border=\"1\" class=\"dataframe\">\n",
       "  <thead>\n",
       "    <tr style=\"text-align: right;\">\n",
       "      <th></th>\n",
       "      <th>patient_id</th>\n",
       "      <th>appointment_id</th>\n",
       "      <th>gender</th>\n",
       "      <th>scheduled_day</th>\n",
       "      <th>appointment_day</th>\n",
       "      <th>age</th>\n",
       "      <th>neighbourhood</th>\n",
       "      <th>scholarship</th>\n",
       "      <th>hypertension</th>\n",
       "      <th>diabetes</th>\n",
       "      <th>alcoholism</th>\n",
       "      <th>handicap</th>\n",
       "      <th>sms_received</th>\n",
       "      <th>no_show</th>\n",
       "    </tr>\n",
       "  </thead>\n",
       "  <tbody>\n",
       "    <tr>\n",
       "      <th>0</th>\n",
       "      <td>2.987250e+13</td>\n",
       "      <td>5642903</td>\n",
       "      <td>F</td>\n",
       "      <td>2016-04-29T18:38:08Z</td>\n",
       "      <td>2016-04-29T00:00:00Z</td>\n",
       "      <td>62</td>\n",
       "      <td>JARDIM DA PENHA</td>\n",
       "      <td>0</td>\n",
       "      <td>1</td>\n",
       "      <td>0</td>\n",
       "      <td>0</td>\n",
       "      <td>0</td>\n",
       "      <td>0</td>\n",
       "      <td>No</td>\n",
       "    </tr>\n",
       "    <tr>\n",
       "      <th>1</th>\n",
       "      <td>5.589978e+14</td>\n",
       "      <td>5642503</td>\n",
       "      <td>M</td>\n",
       "      <td>2016-04-29T16:08:27Z</td>\n",
       "      <td>2016-04-29T00:00:00Z</td>\n",
       "      <td>56</td>\n",
       "      <td>JARDIM DA PENHA</td>\n",
       "      <td>0</td>\n",
       "      <td>0</td>\n",
       "      <td>0</td>\n",
       "      <td>0</td>\n",
       "      <td>0</td>\n",
       "      <td>0</td>\n",
       "      <td>No</td>\n",
       "    </tr>\n",
       "    <tr>\n",
       "      <th>2</th>\n",
       "      <td>4.262962e+12</td>\n",
       "      <td>5642549</td>\n",
       "      <td>F</td>\n",
       "      <td>2016-04-29T16:19:04Z</td>\n",
       "      <td>2016-04-29T00:00:00Z</td>\n",
       "      <td>62</td>\n",
       "      <td>MATA DA PRAIA</td>\n",
       "      <td>0</td>\n",
       "      <td>0</td>\n",
       "      <td>0</td>\n",
       "      <td>0</td>\n",
       "      <td>0</td>\n",
       "      <td>0</td>\n",
       "      <td>No</td>\n",
       "    </tr>\n",
       "    <tr>\n",
       "      <th>3</th>\n",
       "      <td>8.679512e+11</td>\n",
       "      <td>5642828</td>\n",
       "      <td>F</td>\n",
       "      <td>2016-04-29T17:29:31Z</td>\n",
       "      <td>2016-04-29T00:00:00Z</td>\n",
       "      <td>8</td>\n",
       "      <td>PONTAL DE CAMBURI</td>\n",
       "      <td>0</td>\n",
       "      <td>0</td>\n",
       "      <td>0</td>\n",
       "      <td>0</td>\n",
       "      <td>0</td>\n",
       "      <td>0</td>\n",
       "      <td>No</td>\n",
       "    </tr>\n",
       "    <tr>\n",
       "      <th>4</th>\n",
       "      <td>8.841186e+12</td>\n",
       "      <td>5642494</td>\n",
       "      <td>F</td>\n",
       "      <td>2016-04-29T16:07:23Z</td>\n",
       "      <td>2016-04-29T00:00:00Z</td>\n",
       "      <td>56</td>\n",
       "      <td>JARDIM DA PENHA</td>\n",
       "      <td>0</td>\n",
       "      <td>1</td>\n",
       "      <td>1</td>\n",
       "      <td>0</td>\n",
       "      <td>0</td>\n",
       "      <td>0</td>\n",
       "      <td>No</td>\n",
       "    </tr>\n",
       "  </tbody>\n",
       "</table>\n",
       "</div>"
      ],
      "text/plain": [
       "     patient_id  appointment_id gender         scheduled_day  \\\n",
       "0  2.987250e+13         5642903      F  2016-04-29T18:38:08Z   \n",
       "1  5.589978e+14         5642503      M  2016-04-29T16:08:27Z   \n",
       "2  4.262962e+12         5642549      F  2016-04-29T16:19:04Z   \n",
       "3  8.679512e+11         5642828      F  2016-04-29T17:29:31Z   \n",
       "4  8.841186e+12         5642494      F  2016-04-29T16:07:23Z   \n",
       "\n",
       "        appointment_day  age      neighbourhood  scholarship  hypertension  \\\n",
       "0  2016-04-29T00:00:00Z   62    JARDIM DA PENHA            0             1   \n",
       "1  2016-04-29T00:00:00Z   56    JARDIM DA PENHA            0             0   \n",
       "2  2016-04-29T00:00:00Z   62      MATA DA PRAIA            0             0   \n",
       "3  2016-04-29T00:00:00Z    8  PONTAL DE CAMBURI            0             0   \n",
       "4  2016-04-29T00:00:00Z   56    JARDIM DA PENHA            0             1   \n",
       "\n",
       "   diabetes  alcoholism  handicap  sms_received no_show  \n",
       "0         0           0         0             0      No  \n",
       "1         0           0         0             0      No  \n",
       "2         0           0         0             0      No  \n",
       "3         0           0         0             0      No  \n",
       "4         1           0         0             0      No  "
      ]
     },
     "execution_count": 6,
     "metadata": {},
     "output_type": "execute_result"
    }
   ],
   "source": [
    "df_noshow.head()"
   ]
  },
  {
   "cell_type": "markdown",
   "metadata": {},
   "source": [
    "#### Choosing rows in column 'age' between 0 and 101. Discarding rows where 'age' values are negative or more than 100."
   ]
  },
  {
   "cell_type": "code",
   "execution_count": 7,
   "metadata": {},
   "outputs": [
    {
     "data": {
      "text/html": [
       "<div>\n",
       "<style>\n",
       "    .dataframe thead tr:only-child th {\n",
       "        text-align: right;\n",
       "    }\n",
       "\n",
       "    .dataframe thead th {\n",
       "        text-align: left;\n",
       "    }\n",
       "\n",
       "    .dataframe tbody tr th {\n",
       "        vertical-align: top;\n",
       "    }\n",
       "</style>\n",
       "<table border=\"1\" class=\"dataframe\">\n",
       "  <thead>\n",
       "    <tr style=\"text-align: right;\">\n",
       "      <th></th>\n",
       "      <th>patient_id</th>\n",
       "      <th>appointment_id</th>\n",
       "      <th>gender</th>\n",
       "      <th>scheduled_day</th>\n",
       "      <th>appointment_day</th>\n",
       "      <th>age</th>\n",
       "      <th>neighbourhood</th>\n",
       "      <th>scholarship</th>\n",
       "      <th>hypertension</th>\n",
       "      <th>diabetes</th>\n",
       "      <th>alcoholism</th>\n",
       "      <th>handicap</th>\n",
       "      <th>sms_received</th>\n",
       "      <th>no_show</th>\n",
       "    </tr>\n",
       "  </thead>\n",
       "  <tbody>\n",
       "    <tr>\n",
       "      <th>110522</th>\n",
       "      <td>2.572134e+12</td>\n",
       "      <td>5651768</td>\n",
       "      <td>F</td>\n",
       "      <td>2016-05-03T09:15:35Z</td>\n",
       "      <td>2016-06-07T00:00:00Z</td>\n",
       "      <td>56</td>\n",
       "      <td>MARIA ORTIZ</td>\n",
       "      <td>0</td>\n",
       "      <td>0</td>\n",
       "      <td>0</td>\n",
       "      <td>0</td>\n",
       "      <td>0</td>\n",
       "      <td>1</td>\n",
       "      <td>No</td>\n",
       "    </tr>\n",
       "    <tr>\n",
       "      <th>110523</th>\n",
       "      <td>3.596266e+12</td>\n",
       "      <td>5650093</td>\n",
       "      <td>F</td>\n",
       "      <td>2016-05-03T07:27:33Z</td>\n",
       "      <td>2016-06-07T00:00:00Z</td>\n",
       "      <td>51</td>\n",
       "      <td>MARIA ORTIZ</td>\n",
       "      <td>0</td>\n",
       "      <td>0</td>\n",
       "      <td>0</td>\n",
       "      <td>0</td>\n",
       "      <td>0</td>\n",
       "      <td>1</td>\n",
       "      <td>No</td>\n",
       "    </tr>\n",
       "    <tr>\n",
       "      <th>110524</th>\n",
       "      <td>1.557663e+13</td>\n",
       "      <td>5630692</td>\n",
       "      <td>F</td>\n",
       "      <td>2016-04-27T16:03:52Z</td>\n",
       "      <td>2016-06-07T00:00:00Z</td>\n",
       "      <td>21</td>\n",
       "      <td>MARIA ORTIZ</td>\n",
       "      <td>0</td>\n",
       "      <td>0</td>\n",
       "      <td>0</td>\n",
       "      <td>0</td>\n",
       "      <td>0</td>\n",
       "      <td>1</td>\n",
       "      <td>No</td>\n",
       "    </tr>\n",
       "    <tr>\n",
       "      <th>110525</th>\n",
       "      <td>9.213493e+13</td>\n",
       "      <td>5630323</td>\n",
       "      <td>F</td>\n",
       "      <td>2016-04-27T15:09:23Z</td>\n",
       "      <td>2016-06-07T00:00:00Z</td>\n",
       "      <td>38</td>\n",
       "      <td>MARIA ORTIZ</td>\n",
       "      <td>0</td>\n",
       "      <td>0</td>\n",
       "      <td>0</td>\n",
       "      <td>0</td>\n",
       "      <td>0</td>\n",
       "      <td>1</td>\n",
       "      <td>No</td>\n",
       "    </tr>\n",
       "    <tr>\n",
       "      <th>110526</th>\n",
       "      <td>3.775115e+14</td>\n",
       "      <td>5629448</td>\n",
       "      <td>F</td>\n",
       "      <td>2016-04-27T13:30:56Z</td>\n",
       "      <td>2016-06-07T00:00:00Z</td>\n",
       "      <td>54</td>\n",
       "      <td>MARIA ORTIZ</td>\n",
       "      <td>0</td>\n",
       "      <td>0</td>\n",
       "      <td>0</td>\n",
       "      <td>0</td>\n",
       "      <td>0</td>\n",
       "      <td>1</td>\n",
       "      <td>No</td>\n",
       "    </tr>\n",
       "  </tbody>\n",
       "</table>\n",
       "</div>"
      ],
      "text/plain": [
       "          patient_id  appointment_id gender         scheduled_day  \\\n",
       "110522  2.572134e+12         5651768      F  2016-05-03T09:15:35Z   \n",
       "110523  3.596266e+12         5650093      F  2016-05-03T07:27:33Z   \n",
       "110524  1.557663e+13         5630692      F  2016-04-27T16:03:52Z   \n",
       "110525  9.213493e+13         5630323      F  2016-04-27T15:09:23Z   \n",
       "110526  3.775115e+14         5629448      F  2016-04-27T13:30:56Z   \n",
       "\n",
       "             appointment_day  age neighbourhood  scholarship  hypertension  \\\n",
       "110522  2016-06-07T00:00:00Z   56   MARIA ORTIZ            0             0   \n",
       "110523  2016-06-07T00:00:00Z   51   MARIA ORTIZ            0             0   \n",
       "110524  2016-06-07T00:00:00Z   21   MARIA ORTIZ            0             0   \n",
       "110525  2016-06-07T00:00:00Z   38   MARIA ORTIZ            0             0   \n",
       "110526  2016-06-07T00:00:00Z   54   MARIA ORTIZ            0             0   \n",
       "\n",
       "        diabetes  alcoholism  handicap  sms_received no_show  \n",
       "110522         0           0         0             1      No  \n",
       "110523         0           0         0             1      No  \n",
       "110524         0           0         0             1      No  \n",
       "110525         0           0         0             1      No  \n",
       "110526         0           0         0             1      No  "
      ]
     },
     "execution_count": 7,
     "metadata": {},
     "output_type": "execute_result"
    }
   ],
   "source": [
    "df_no_show = df_noshow.query(' age  > 0 and age < 101 ')\n",
    "df_no_show.tail()"
   ]
  },
  {
   "cell_type": "markdown",
   "metadata": {},
   "source": [
    "#### Data Wrangling:checking for null entry"
   ]
  },
  {
   "cell_type": "code",
   "execution_count": 8,
   "metadata": {},
   "outputs": [
    {
     "data": {
      "text/plain": [
       "patient_id         0\n",
       "appointment_id     0\n",
       "gender             0\n",
       "scheduled_day      0\n",
       "appointment_day    0\n",
       "age                0\n",
       "neighbourhood      0\n",
       "scholarship        0\n",
       "hypertension       0\n",
       "diabetes           0\n",
       "alcoholism         0\n",
       "handicap           0\n",
       "sms_received       0\n",
       "no_show            0\n",
       "dtype: int64"
      ]
     },
     "execution_count": 8,
     "metadata": {},
     "output_type": "execute_result"
    }
   ],
   "source": [
    "df_noshow.isnull().sum()"
   ]
  },
  {
   "cell_type": "code",
   "execution_count": null,
   "metadata": {},
   "outputs": [],
   "source": []
  },
  {
   "cell_type": "markdown",
   "metadata": {},
   "source": [
    "#### Data Wrangling:checking for duplicate entries"
   ]
  },
  {
   "cell_type": "code",
   "execution_count": 9,
   "metadata": {},
   "outputs": [
    {
     "data": {
      "text/plain": [
       "0"
      ]
     },
     "execution_count": 9,
     "metadata": {},
     "output_type": "execute_result"
    }
   ],
   "source": [
    "df_noshow.duplicated().sum()"
   ]
  },
  {
   "cell_type": "code",
   "execution_count": null,
   "metadata": {},
   "outputs": [],
   "source": []
  },
  {
   "cell_type": "code",
   "execution_count": 10,
   "metadata": {},
   "outputs": [
    {
     "data": {
      "text/plain": [
       "Index(['patient_id', 'appointment_id', 'gender', 'scheduled_day',\n",
       "       'appointment_day', 'age', 'neighbourhood', 'scholarship',\n",
       "       'hypertension', 'diabetes', 'alcoholism', 'handicap', 'sms_received',\n",
       "       'no_show'],\n",
       "      dtype='object')"
      ]
     },
     "execution_count": 10,
     "metadata": {},
     "output_type": "execute_result"
    }
   ],
   "source": [
    "df_noshow.columns"
   ]
  },
  {
   "cell_type": "code",
   "execution_count": 11,
   "metadata": {},
   "outputs": [
    {
     "data": {
      "text/plain": [
       "48228"
      ]
     },
     "execution_count": 11,
     "metadata": {},
     "output_type": "execute_result"
    }
   ],
   "source": [
    "df_noshow['patient_id'].duplicated().sum()"
   ]
  },
  {
   "cell_type": "code",
   "execution_count": null,
   "metadata": {},
   "outputs": [],
   "source": []
  },
  {
   "cell_type": "code",
   "execution_count": 12,
   "metadata": {},
   "outputs": [
    {
     "data": {
      "text/plain": [
       "0"
      ]
     },
     "execution_count": 12,
     "metadata": {},
     "output_type": "execute_result"
    }
   ],
   "source": [
    "df_noshow['appointment_id'].duplicated().sum()"
   ]
  },
  {
   "cell_type": "markdown",
   "metadata": {},
   "source": [
    "##### Deleting  column  'appointment_id' as it does not seems to give any indication of patient No-Show for an appointment.\n"
   ]
  },
  {
   "cell_type": "code",
   "execution_count": 13,
   "metadata": {},
   "outputs": [],
   "source": [
    "df_noshow.drop(['appointment_id'], axis=1, inplace=True)"
   ]
  },
  {
   "cell_type": "code",
   "execution_count": null,
   "metadata": {},
   "outputs": [],
   "source": []
  },
  {
   "cell_type": "markdown",
   "metadata": {},
   "source": [
    "##### Converting column 'scheduled_day'  and 'appointment_day' into datatime format."
   ]
  },
  {
   "cell_type": "code",
   "execution_count": 14,
   "metadata": {},
   "outputs": [
    {
     "name": "stdout",
     "output_type": "stream",
     "text": [
      "<class 'pandas.core.frame.DataFrame'>\n",
      "RangeIndex: 110527 entries, 0 to 110526\n",
      "Data columns (total 13 columns):\n",
      "patient_id         110527 non-null float64\n",
      "gender             110527 non-null object\n",
      "scheduled_day      110527 non-null object\n",
      "appointment_day    110527 non-null object\n",
      "age                110527 non-null int64\n",
      "neighbourhood      110527 non-null object\n",
      "scholarship        110527 non-null int64\n",
      "hypertension       110527 non-null int64\n",
      "diabetes           110527 non-null int64\n",
      "alcoholism         110527 non-null int64\n",
      "handicap           110527 non-null int64\n",
      "sms_received       110527 non-null int64\n",
      "no_show            110527 non-null object\n",
      "dtypes: float64(1), int64(7), object(5)\n",
      "memory usage: 11.0+ MB\n"
     ]
    }
   ],
   "source": [
    "df_noshow.info()"
   ]
  },
  {
   "cell_type": "code",
   "execution_count": 15,
   "metadata": {},
   "outputs": [],
   "source": [
    "df_noshow['scheduled_day'] = pd.to_datetime(df_noshow['scheduled_day'])\n",
    "df_noshow['appointment_day'] = pd.to_datetime(df_noshow['appointment_day'])"
   ]
  },
  {
   "cell_type": "code",
   "execution_count": 16,
   "metadata": {},
   "outputs": [
    {
     "name": "stdout",
     "output_type": "stream",
     "text": [
      "<class 'pandas.core.frame.DataFrame'>\n",
      "RangeIndex: 110527 entries, 0 to 110526\n",
      "Data columns (total 13 columns):\n",
      "patient_id         110527 non-null float64\n",
      "gender             110527 non-null object\n",
      "scheduled_day      110527 non-null datetime64[ns]\n",
      "appointment_day    110527 non-null datetime64[ns]\n",
      "age                110527 non-null int64\n",
      "neighbourhood      110527 non-null object\n",
      "scholarship        110527 non-null int64\n",
      "hypertension       110527 non-null int64\n",
      "diabetes           110527 non-null int64\n",
      "alcoholism         110527 non-null int64\n",
      "handicap           110527 non-null int64\n",
      "sms_received       110527 non-null int64\n",
      "no_show            110527 non-null object\n",
      "dtypes: datetime64[ns](2), float64(1), int64(7), object(3)\n",
      "memory usage: 11.0+ MB\n"
     ]
    }
   ],
   "source": [
    "df_noshow.info()"
   ]
  },
  {
   "cell_type": "code",
   "execution_count": 17,
   "metadata": {},
   "outputs": [],
   "source": [
    "# adding year, month, weekday, and hour column\n",
    "df_noshow['scheduled_day_year'] = df_noshow['scheduled_day'].dt.year\n",
    "\n",
    "# Extracting month number and creating new column 'scheduled_day_month'\n",
    "df_noshow['scheduled_day_month'] = df_noshow['scheduled_day'].dt.month\n",
    "# Extracting month name and creating new column 'Start_Time_month_name'\n",
    "df_noshow['scheduled_day_month_name'] = df_noshow['scheduled_day'].dt.month.apply(lambda x: calendar.month_name[x])\n",
    "\n",
    "# Extracting weekday name and creating new column 'Start_Time_day_of_week'\n",
    "df_noshow['scheduled_day_week_name'] = df_noshow['scheduled_day'].dt.weekday_name\n",
    "\n",
    "# Extracting hour and creating new column 'Start_Time_hour'\n",
    "df_noshow['scheduled_day_hour'] = df_noshow['scheduled_day'].dt.hour"
   ]
  },
  {
   "cell_type": "code",
   "execution_count": 18,
   "metadata": {},
   "outputs": [
    {
     "data": {
      "text/html": [
       "<div>\n",
       "<style>\n",
       "    .dataframe thead tr:only-child th {\n",
       "        text-align: right;\n",
       "    }\n",
       "\n",
       "    .dataframe thead th {\n",
       "        text-align: left;\n",
       "    }\n",
       "\n",
       "    .dataframe tbody tr th {\n",
       "        vertical-align: top;\n",
       "    }\n",
       "</style>\n",
       "<table border=\"1\" class=\"dataframe\">\n",
       "  <thead>\n",
       "    <tr style=\"text-align: right;\">\n",
       "      <th></th>\n",
       "      <th>patient_id</th>\n",
       "      <th>gender</th>\n",
       "      <th>scheduled_day</th>\n",
       "      <th>appointment_day</th>\n",
       "      <th>age</th>\n",
       "      <th>neighbourhood</th>\n",
       "      <th>scholarship</th>\n",
       "      <th>hypertension</th>\n",
       "      <th>diabetes</th>\n",
       "      <th>alcoholism</th>\n",
       "      <th>handicap</th>\n",
       "      <th>sms_received</th>\n",
       "      <th>no_show</th>\n",
       "      <th>scheduled_day_year</th>\n",
       "      <th>scheduled_day_month</th>\n",
       "      <th>scheduled_day_month_name</th>\n",
       "      <th>scheduled_day_week_name</th>\n",
       "      <th>scheduled_day_hour</th>\n",
       "    </tr>\n",
       "  </thead>\n",
       "  <tbody>\n",
       "    <tr>\n",
       "      <th>0</th>\n",
       "      <td>2.987250e+13</td>\n",
       "      <td>F</td>\n",
       "      <td>2016-04-29 18:38:08</td>\n",
       "      <td>2016-04-29</td>\n",
       "      <td>62</td>\n",
       "      <td>JARDIM DA PENHA</td>\n",
       "      <td>0</td>\n",
       "      <td>1</td>\n",
       "      <td>0</td>\n",
       "      <td>0</td>\n",
       "      <td>0</td>\n",
       "      <td>0</td>\n",
       "      <td>No</td>\n",
       "      <td>2016</td>\n",
       "      <td>4</td>\n",
       "      <td>April</td>\n",
       "      <td>Friday</td>\n",
       "      <td>18</td>\n",
       "    </tr>\n",
       "    <tr>\n",
       "      <th>1</th>\n",
       "      <td>5.589978e+14</td>\n",
       "      <td>M</td>\n",
       "      <td>2016-04-29 16:08:27</td>\n",
       "      <td>2016-04-29</td>\n",
       "      <td>56</td>\n",
       "      <td>JARDIM DA PENHA</td>\n",
       "      <td>0</td>\n",
       "      <td>0</td>\n",
       "      <td>0</td>\n",
       "      <td>0</td>\n",
       "      <td>0</td>\n",
       "      <td>0</td>\n",
       "      <td>No</td>\n",
       "      <td>2016</td>\n",
       "      <td>4</td>\n",
       "      <td>April</td>\n",
       "      <td>Friday</td>\n",
       "      <td>16</td>\n",
       "    </tr>\n",
       "    <tr>\n",
       "      <th>2</th>\n",
       "      <td>4.262962e+12</td>\n",
       "      <td>F</td>\n",
       "      <td>2016-04-29 16:19:04</td>\n",
       "      <td>2016-04-29</td>\n",
       "      <td>62</td>\n",
       "      <td>MATA DA PRAIA</td>\n",
       "      <td>0</td>\n",
       "      <td>0</td>\n",
       "      <td>0</td>\n",
       "      <td>0</td>\n",
       "      <td>0</td>\n",
       "      <td>0</td>\n",
       "      <td>No</td>\n",
       "      <td>2016</td>\n",
       "      <td>4</td>\n",
       "      <td>April</td>\n",
       "      <td>Friday</td>\n",
       "      <td>16</td>\n",
       "    </tr>\n",
       "  </tbody>\n",
       "</table>\n",
       "</div>"
      ],
      "text/plain": [
       "     patient_id gender       scheduled_day appointment_day  age  \\\n",
       "0  2.987250e+13      F 2016-04-29 18:38:08      2016-04-29   62   \n",
       "1  5.589978e+14      M 2016-04-29 16:08:27      2016-04-29   56   \n",
       "2  4.262962e+12      F 2016-04-29 16:19:04      2016-04-29   62   \n",
       "\n",
       "     neighbourhood  scholarship  hypertension  diabetes  alcoholism  handicap  \\\n",
       "0  JARDIM DA PENHA            0             1         0           0         0   \n",
       "1  JARDIM DA PENHA            0             0         0           0         0   \n",
       "2    MATA DA PRAIA            0             0         0           0         0   \n",
       "\n",
       "   sms_received no_show  scheduled_day_year  scheduled_day_month  \\\n",
       "0             0      No                2016                    4   \n",
       "1             0      No                2016                    4   \n",
       "2             0      No                2016                    4   \n",
       "\n",
       "  scheduled_day_month_name scheduled_day_week_name  scheduled_day_hour  \n",
       "0                    April                  Friday                  18  \n",
       "1                    April                  Friday                  16  \n",
       "2                    April                  Friday                  16  "
      ]
     },
     "execution_count": 18,
     "metadata": {},
     "output_type": "execute_result"
    }
   ],
   "source": [
    "df_noshow.head(3)"
   ]
  },
  {
   "cell_type": "code",
   "execution_count": null,
   "metadata": {},
   "outputs": [],
   "source": []
  },
  {
   "cell_type": "markdown",
   "metadata": {},
   "source": [
    "#### Discarding same day appointments"
   ]
  },
  {
   "cell_type": "code",
   "execution_count": 19,
   "metadata": {},
   "outputs": [
    {
     "data": {
      "text/html": [
       "<div>\n",
       "<style>\n",
       "    .dataframe thead tr:only-child th {\n",
       "        text-align: right;\n",
       "    }\n",
       "\n",
       "    .dataframe thead th {\n",
       "        text-align: left;\n",
       "    }\n",
       "\n",
       "    .dataframe tbody tr th {\n",
       "        vertical-align: top;\n",
       "    }\n",
       "</style>\n",
       "<table border=\"1\" class=\"dataframe\">\n",
       "  <thead>\n",
       "    <tr style=\"text-align: right;\">\n",
       "      <th></th>\n",
       "      <th>patient_id</th>\n",
       "      <th>gender</th>\n",
       "      <th>scheduled_day</th>\n",
       "      <th>appointment_day</th>\n",
       "      <th>age</th>\n",
       "      <th>neighbourhood</th>\n",
       "      <th>scholarship</th>\n",
       "      <th>hypertension</th>\n",
       "      <th>diabetes</th>\n",
       "      <th>alcoholism</th>\n",
       "      <th>handicap</th>\n",
       "      <th>sms_received</th>\n",
       "      <th>no_show</th>\n",
       "      <th>scheduled_day_year</th>\n",
       "      <th>scheduled_day_month</th>\n",
       "      <th>scheduled_day_month_name</th>\n",
       "      <th>scheduled_day_week_name</th>\n",
       "      <th>scheduled_day_hour</th>\n",
       "      <th>days_to_appointment</th>\n",
       "    </tr>\n",
       "  </thead>\n",
       "  <tbody>\n",
       "    <tr>\n",
       "      <th>5</th>\n",
       "      <td>9.598513e+13</td>\n",
       "      <td>F</td>\n",
       "      <td>2016-04-27 08:36:51</td>\n",
       "      <td>2016-04-29</td>\n",
       "      <td>76</td>\n",
       "      <td>REPÚBLICA</td>\n",
       "      <td>0</td>\n",
       "      <td>1</td>\n",
       "      <td>0</td>\n",
       "      <td>0</td>\n",
       "      <td>0</td>\n",
       "      <td>0</td>\n",
       "      <td>No</td>\n",
       "      <td>2016</td>\n",
       "      <td>4</td>\n",
       "      <td>April</td>\n",
       "      <td>Wednesday</td>\n",
       "      <td>8</td>\n",
       "      <td>2</td>\n",
       "    </tr>\n",
       "    <tr>\n",
       "      <th>6</th>\n",
       "      <td>7.336882e+14</td>\n",
       "      <td>F</td>\n",
       "      <td>2016-04-27 15:05:12</td>\n",
       "      <td>2016-04-29</td>\n",
       "      <td>23</td>\n",
       "      <td>GOIABEIRAS</td>\n",
       "      <td>0</td>\n",
       "      <td>0</td>\n",
       "      <td>0</td>\n",
       "      <td>0</td>\n",
       "      <td>0</td>\n",
       "      <td>0</td>\n",
       "      <td>Yes</td>\n",
       "      <td>2016</td>\n",
       "      <td>4</td>\n",
       "      <td>April</td>\n",
       "      <td>Wednesday</td>\n",
       "      <td>15</td>\n",
       "      <td>2</td>\n",
       "    </tr>\n",
       "    <tr>\n",
       "      <th>7</th>\n",
       "      <td>3.449833e+12</td>\n",
       "      <td>F</td>\n",
       "      <td>2016-04-27 15:39:58</td>\n",
       "      <td>2016-04-29</td>\n",
       "      <td>39</td>\n",
       "      <td>GOIABEIRAS</td>\n",
       "      <td>0</td>\n",
       "      <td>0</td>\n",
       "      <td>0</td>\n",
       "      <td>0</td>\n",
       "      <td>0</td>\n",
       "      <td>0</td>\n",
       "      <td>Yes</td>\n",
       "      <td>2016</td>\n",
       "      <td>4</td>\n",
       "      <td>April</td>\n",
       "      <td>Wednesday</td>\n",
       "      <td>15</td>\n",
       "      <td>2</td>\n",
       "    </tr>\n",
       "    <tr>\n",
       "      <th>9</th>\n",
       "      <td>7.812456e+13</td>\n",
       "      <td>F</td>\n",
       "      <td>2016-04-27 12:48:25</td>\n",
       "      <td>2016-04-29</td>\n",
       "      <td>19</td>\n",
       "      <td>CONQUISTA</td>\n",
       "      <td>0</td>\n",
       "      <td>0</td>\n",
       "      <td>0</td>\n",
       "      <td>0</td>\n",
       "      <td>0</td>\n",
       "      <td>0</td>\n",
       "      <td>No</td>\n",
       "      <td>2016</td>\n",
       "      <td>4</td>\n",
       "      <td>April</td>\n",
       "      <td>Wednesday</td>\n",
       "      <td>12</td>\n",
       "      <td>2</td>\n",
       "    </tr>\n",
       "    <tr>\n",
       "      <th>10</th>\n",
       "      <td>7.345362e+14</td>\n",
       "      <td>F</td>\n",
       "      <td>2016-04-27 14:58:11</td>\n",
       "      <td>2016-04-29</td>\n",
       "      <td>30</td>\n",
       "      <td>NOVA PALESTINA</td>\n",
       "      <td>0</td>\n",
       "      <td>0</td>\n",
       "      <td>0</td>\n",
       "      <td>0</td>\n",
       "      <td>0</td>\n",
       "      <td>0</td>\n",
       "      <td>No</td>\n",
       "      <td>2016</td>\n",
       "      <td>4</td>\n",
       "      <td>April</td>\n",
       "      <td>Wednesday</td>\n",
       "      <td>14</td>\n",
       "      <td>2</td>\n",
       "    </tr>\n",
       "  </tbody>\n",
       "</table>\n",
       "</div>"
      ],
      "text/plain": [
       "      patient_id gender       scheduled_day appointment_day  age  \\\n",
       "5   9.598513e+13      F 2016-04-27 08:36:51      2016-04-29   76   \n",
       "6   7.336882e+14      F 2016-04-27 15:05:12      2016-04-29   23   \n",
       "7   3.449833e+12      F 2016-04-27 15:39:58      2016-04-29   39   \n",
       "9   7.812456e+13      F 2016-04-27 12:48:25      2016-04-29   19   \n",
       "10  7.345362e+14      F 2016-04-27 14:58:11      2016-04-29   30   \n",
       "\n",
       "     neighbourhood  scholarship  hypertension  diabetes  alcoholism  handicap  \\\n",
       "5        REPÚBLICA            0             1         0           0         0   \n",
       "6       GOIABEIRAS            0             0         0           0         0   \n",
       "7       GOIABEIRAS            0             0         0           0         0   \n",
       "9        CONQUISTA            0             0         0           0         0   \n",
       "10  NOVA PALESTINA            0             0         0           0         0   \n",
       "\n",
       "    sms_received no_show  scheduled_day_year  scheduled_day_month  \\\n",
       "5              0      No                2016                    4   \n",
       "6              0     Yes                2016                    4   \n",
       "7              0     Yes                2016                    4   \n",
       "9              0      No                2016                    4   \n",
       "10             0      No                2016                    4   \n",
       "\n",
       "   scheduled_day_month_name scheduled_day_week_name  scheduled_day_hour  \\\n",
       "5                     April               Wednesday                   8   \n",
       "6                     April               Wednesday                  15   \n",
       "7                     April               Wednesday                  15   \n",
       "9                     April               Wednesday                  12   \n",
       "10                    April               Wednesday                  14   \n",
       "\n",
       "    days_to_appointment  \n",
       "5                     2  \n",
       "6                     2  \n",
       "7                     2  \n",
       "9                     2  \n",
       "10                    2  "
      ]
     },
     "execution_count": 19,
     "metadata": {},
     "output_type": "execute_result"
    }
   ],
   "source": [
    "df_noshow['days_to_appointment'] = df_noshow['appointment_day'].dt.day - df_noshow['scheduled_day'].dt.day\n",
    "df_noshow = df_noshow.query(' days_to_appointment  > 0 ')\n",
    "df_noshow.head()"
   ]
  },
  {
   "cell_type": "code",
   "execution_count": 20,
   "metadata": {},
   "outputs": [
    {
     "data": {
      "text/plain": [
       "(41027, 19)"
      ]
     },
     "execution_count": 20,
     "metadata": {},
     "output_type": "execute_result"
    }
   ],
   "source": [
    "df_noshow.shape"
   ]
  },
  {
   "cell_type": "code",
   "execution_count": 21,
   "metadata": {},
   "outputs": [
    {
     "name": "stdout",
     "output_type": "stream",
     "text": [
      "<class 'pandas.core.frame.DataFrame'>\n",
      "Int64Index: 41027 entries, 5 to 110523\n",
      "Data columns (total 19 columns):\n",
      "patient_id                  41027 non-null float64\n",
      "gender                      41027 non-null object\n",
      "scheduled_day               41027 non-null datetime64[ns]\n",
      "appointment_day             41027 non-null datetime64[ns]\n",
      "age                         41027 non-null int64\n",
      "neighbourhood               41027 non-null object\n",
      "scholarship                 41027 non-null int64\n",
      "hypertension                41027 non-null int64\n",
      "diabetes                    41027 non-null int64\n",
      "alcoholism                  41027 non-null int64\n",
      "handicap                    41027 non-null int64\n",
      "sms_received                41027 non-null int64\n",
      "no_show                     41027 non-null object\n",
      "scheduled_day_year          41027 non-null int64\n",
      "scheduled_day_month         41027 non-null int64\n",
      "scheduled_day_month_name    41027 non-null object\n",
      "scheduled_day_week_name     41027 non-null object\n",
      "scheduled_day_hour          41027 non-null int64\n",
      "days_to_appointment         41027 non-null int64\n",
      "dtypes: datetime64[ns](2), float64(1), int64(11), object(5)\n",
      "memory usage: 6.3+ MB\n"
     ]
    }
   ],
   "source": [
    "df_noshow.info()"
   ]
  },
  {
   "cell_type": "code",
   "execution_count": null,
   "metadata": {},
   "outputs": [],
   "source": []
  },
  {
   "cell_type": "markdown",
   "metadata": {},
   "source": [
    "##  Creating various Dataframe based on criteria for further analysis"
   ]
  },
  {
   "cell_type": "code",
   "execution_count": null,
   "metadata": {},
   "outputs": [],
   "source": []
  },
  {
   "cell_type": "code",
   "execution_count": 22,
   "metadata": {},
   "outputs": [
    {
     "data": {
      "text/html": [
       "<div>\n",
       "<style>\n",
       "    .dataframe thead tr:only-child th {\n",
       "        text-align: right;\n",
       "    }\n",
       "\n",
       "    .dataframe thead th {\n",
       "        text-align: left;\n",
       "    }\n",
       "\n",
       "    .dataframe tbody tr th {\n",
       "        vertical-align: top;\n",
       "    }\n",
       "</style>\n",
       "<table border=\"1\" class=\"dataframe\">\n",
       "  <thead>\n",
       "    <tr style=\"text-align: right;\">\n",
       "      <th></th>\n",
       "      <th>patient_id</th>\n",
       "      <th>gender</th>\n",
       "      <th>scheduled_day</th>\n",
       "      <th>appointment_day</th>\n",
       "      <th>age</th>\n",
       "      <th>neighbourhood</th>\n",
       "      <th>scholarship</th>\n",
       "      <th>hypertension</th>\n",
       "      <th>diabetes</th>\n",
       "      <th>alcoholism</th>\n",
       "      <th>handicap</th>\n",
       "      <th>sms_received</th>\n",
       "      <th>no_show</th>\n",
       "      <th>scheduled_day_year</th>\n",
       "      <th>scheduled_day_month</th>\n",
       "      <th>scheduled_day_month_name</th>\n",
       "      <th>scheduled_day_week_name</th>\n",
       "      <th>scheduled_day_hour</th>\n",
       "      <th>days_to_appointment</th>\n",
       "    </tr>\n",
       "  </thead>\n",
       "  <tbody>\n",
       "    <tr>\n",
       "      <th>5</th>\n",
       "      <td>9.598513e+13</td>\n",
       "      <td>F</td>\n",
       "      <td>2016-04-27 08:36:51</td>\n",
       "      <td>2016-04-29</td>\n",
       "      <td>76</td>\n",
       "      <td>REPÚBLICA</td>\n",
       "      <td>0</td>\n",
       "      <td>1</td>\n",
       "      <td>0</td>\n",
       "      <td>0</td>\n",
       "      <td>0</td>\n",
       "      <td>0</td>\n",
       "      <td>No</td>\n",
       "      <td>2016</td>\n",
       "      <td>4</td>\n",
       "      <td>April</td>\n",
       "      <td>Wednesday</td>\n",
       "      <td>8</td>\n",
       "      <td>2</td>\n",
       "    </tr>\n",
       "    <tr>\n",
       "      <th>6</th>\n",
       "      <td>7.336882e+14</td>\n",
       "      <td>F</td>\n",
       "      <td>2016-04-27 15:05:12</td>\n",
       "      <td>2016-04-29</td>\n",
       "      <td>23</td>\n",
       "      <td>GOIABEIRAS</td>\n",
       "      <td>0</td>\n",
       "      <td>0</td>\n",
       "      <td>0</td>\n",
       "      <td>0</td>\n",
       "      <td>0</td>\n",
       "      <td>0</td>\n",
       "      <td>Yes</td>\n",
       "      <td>2016</td>\n",
       "      <td>4</td>\n",
       "      <td>April</td>\n",
       "      <td>Wednesday</td>\n",
       "      <td>15</td>\n",
       "      <td>2</td>\n",
       "    </tr>\n",
       "    <tr>\n",
       "      <th>7</th>\n",
       "      <td>3.449833e+12</td>\n",
       "      <td>F</td>\n",
       "      <td>2016-04-27 15:39:58</td>\n",
       "      <td>2016-04-29</td>\n",
       "      <td>39</td>\n",
       "      <td>GOIABEIRAS</td>\n",
       "      <td>0</td>\n",
       "      <td>0</td>\n",
       "      <td>0</td>\n",
       "      <td>0</td>\n",
       "      <td>0</td>\n",
       "      <td>0</td>\n",
       "      <td>Yes</td>\n",
       "      <td>2016</td>\n",
       "      <td>4</td>\n",
       "      <td>April</td>\n",
       "      <td>Wednesday</td>\n",
       "      <td>15</td>\n",
       "      <td>2</td>\n",
       "    </tr>\n",
       "    <tr>\n",
       "      <th>9</th>\n",
       "      <td>7.812456e+13</td>\n",
       "      <td>F</td>\n",
       "      <td>2016-04-27 12:48:25</td>\n",
       "      <td>2016-04-29</td>\n",
       "      <td>19</td>\n",
       "      <td>CONQUISTA</td>\n",
       "      <td>0</td>\n",
       "      <td>0</td>\n",
       "      <td>0</td>\n",
       "      <td>0</td>\n",
       "      <td>0</td>\n",
       "      <td>0</td>\n",
       "      <td>No</td>\n",
       "      <td>2016</td>\n",
       "      <td>4</td>\n",
       "      <td>April</td>\n",
       "      <td>Wednesday</td>\n",
       "      <td>12</td>\n",
       "      <td>2</td>\n",
       "    </tr>\n",
       "    <tr>\n",
       "      <th>10</th>\n",
       "      <td>7.345362e+14</td>\n",
       "      <td>F</td>\n",
       "      <td>2016-04-27 14:58:11</td>\n",
       "      <td>2016-04-29</td>\n",
       "      <td>30</td>\n",
       "      <td>NOVA PALESTINA</td>\n",
       "      <td>0</td>\n",
       "      <td>0</td>\n",
       "      <td>0</td>\n",
       "      <td>0</td>\n",
       "      <td>0</td>\n",
       "      <td>0</td>\n",
       "      <td>No</td>\n",
       "      <td>2016</td>\n",
       "      <td>4</td>\n",
       "      <td>April</td>\n",
       "      <td>Wednesday</td>\n",
       "      <td>14</td>\n",
       "      <td>2</td>\n",
       "    </tr>\n",
       "  </tbody>\n",
       "</table>\n",
       "</div>"
      ],
      "text/plain": [
       "      patient_id gender       scheduled_day appointment_day  age  \\\n",
       "5   9.598513e+13      F 2016-04-27 08:36:51      2016-04-29   76   \n",
       "6   7.336882e+14      F 2016-04-27 15:05:12      2016-04-29   23   \n",
       "7   3.449833e+12      F 2016-04-27 15:39:58      2016-04-29   39   \n",
       "9   7.812456e+13      F 2016-04-27 12:48:25      2016-04-29   19   \n",
       "10  7.345362e+14      F 2016-04-27 14:58:11      2016-04-29   30   \n",
       "\n",
       "     neighbourhood  scholarship  hypertension  diabetes  alcoholism  handicap  \\\n",
       "5        REPÚBLICA            0             1         0           0         0   \n",
       "6       GOIABEIRAS            0             0         0           0         0   \n",
       "7       GOIABEIRAS            0             0         0           0         0   \n",
       "9        CONQUISTA            0             0         0           0         0   \n",
       "10  NOVA PALESTINA            0             0         0           0         0   \n",
       "\n",
       "    sms_received no_show  scheduled_day_year  scheduled_day_month  \\\n",
       "5              0      No                2016                    4   \n",
       "6              0     Yes                2016                    4   \n",
       "7              0     Yes                2016                    4   \n",
       "9              0      No                2016                    4   \n",
       "10             0      No                2016                    4   \n",
       "\n",
       "   scheduled_day_month_name scheduled_day_week_name  scheduled_day_hour  \\\n",
       "5                     April               Wednesday                   8   \n",
       "6                     April               Wednesday                  15   \n",
       "7                     April               Wednesday                  15   \n",
       "9                     April               Wednesday                  12   \n",
       "10                    April               Wednesday                  14   \n",
       "\n",
       "    days_to_appointment  \n",
       "5                     2  \n",
       "6                     2  \n",
       "7                     2  \n",
       "9                     2  \n",
       "10                    2  "
      ]
     },
     "execution_count": 22,
     "metadata": {},
     "output_type": "execute_result"
    }
   ],
   "source": [
    "df_noshow.head()"
   ]
  },
  {
   "cell_type": "code",
   "execution_count": null,
   "metadata": {},
   "outputs": [],
   "source": []
  },
  {
   "cell_type": "markdown",
   "metadata": {},
   "source": [
    "#### Dataframe where the patient did NOT show up for appointment"
   ]
  },
  {
   "cell_type": "code",
   "execution_count": 23,
   "metadata": {},
   "outputs": [],
   "source": [
    "df_noshow_yes = df_noshow[df_noshow['no_show'] == 'Yes']"
   ]
  },
  {
   "cell_type": "code",
   "execution_count": 24,
   "metadata": {},
   "outputs": [
    {
     "data": {
      "text/html": [
       "<div>\n",
       "<style>\n",
       "    .dataframe thead tr:only-child th {\n",
       "        text-align: right;\n",
       "    }\n",
       "\n",
       "    .dataframe thead th {\n",
       "        text-align: left;\n",
       "    }\n",
       "\n",
       "    .dataframe tbody tr th {\n",
       "        vertical-align: top;\n",
       "    }\n",
       "</style>\n",
       "<table border=\"1\" class=\"dataframe\">\n",
       "  <thead>\n",
       "    <tr style=\"text-align: right;\">\n",
       "      <th></th>\n",
       "      <th>patient_id</th>\n",
       "      <th>gender</th>\n",
       "      <th>scheduled_day</th>\n",
       "      <th>appointment_day</th>\n",
       "      <th>age</th>\n",
       "      <th>neighbourhood</th>\n",
       "      <th>scholarship</th>\n",
       "      <th>hypertension</th>\n",
       "      <th>diabetes</th>\n",
       "      <th>alcoholism</th>\n",
       "      <th>handicap</th>\n",
       "      <th>sms_received</th>\n",
       "      <th>no_show</th>\n",
       "      <th>scheduled_day_year</th>\n",
       "      <th>scheduled_day_month</th>\n",
       "      <th>scheduled_day_month_name</th>\n",
       "      <th>scheduled_day_week_name</th>\n",
       "      <th>scheduled_day_hour</th>\n",
       "      <th>days_to_appointment</th>\n",
       "    </tr>\n",
       "  </thead>\n",
       "  <tbody>\n",
       "    <tr>\n",
       "      <th>6</th>\n",
       "      <td>7.336882e+14</td>\n",
       "      <td>F</td>\n",
       "      <td>2016-04-27 15:05:12</td>\n",
       "      <td>2016-04-29</td>\n",
       "      <td>23</td>\n",
       "      <td>GOIABEIRAS</td>\n",
       "      <td>0</td>\n",
       "      <td>0</td>\n",
       "      <td>0</td>\n",
       "      <td>0</td>\n",
       "      <td>0</td>\n",
       "      <td>0</td>\n",
       "      <td>Yes</td>\n",
       "      <td>2016</td>\n",
       "      <td>4</td>\n",
       "      <td>April</td>\n",
       "      <td>Wednesday</td>\n",
       "      <td>15</td>\n",
       "      <td>2</td>\n",
       "    </tr>\n",
       "    <tr>\n",
       "      <th>7</th>\n",
       "      <td>3.449833e+12</td>\n",
       "      <td>F</td>\n",
       "      <td>2016-04-27 15:39:58</td>\n",
       "      <td>2016-04-29</td>\n",
       "      <td>39</td>\n",
       "      <td>GOIABEIRAS</td>\n",
       "      <td>0</td>\n",
       "      <td>0</td>\n",
       "      <td>0</td>\n",
       "      <td>0</td>\n",
       "      <td>0</td>\n",
       "      <td>0</td>\n",
       "      <td>Yes</td>\n",
       "      <td>2016</td>\n",
       "      <td>4</td>\n",
       "      <td>April</td>\n",
       "      <td>Wednesday</td>\n",
       "      <td>15</td>\n",
       "      <td>2</td>\n",
       "    </tr>\n",
       "    <tr>\n",
       "      <th>11</th>\n",
       "      <td>7.542951e+12</td>\n",
       "      <td>M</td>\n",
       "      <td>2016-04-26 08:44:12</td>\n",
       "      <td>2016-04-29</td>\n",
       "      <td>29</td>\n",
       "      <td>NOVA PALESTINA</td>\n",
       "      <td>0</td>\n",
       "      <td>0</td>\n",
       "      <td>0</td>\n",
       "      <td>0</td>\n",
       "      <td>0</td>\n",
       "      <td>1</td>\n",
       "      <td>Yes</td>\n",
       "      <td>2016</td>\n",
       "      <td>4</td>\n",
       "      <td>April</td>\n",
       "      <td>Tuesday</td>\n",
       "      <td>8</td>\n",
       "      <td>3</td>\n",
       "    </tr>\n",
       "  </tbody>\n",
       "</table>\n",
       "</div>"
      ],
      "text/plain": [
       "      patient_id gender       scheduled_day appointment_day  age  \\\n",
       "6   7.336882e+14      F 2016-04-27 15:05:12      2016-04-29   23   \n",
       "7   3.449833e+12      F 2016-04-27 15:39:58      2016-04-29   39   \n",
       "11  7.542951e+12      M 2016-04-26 08:44:12      2016-04-29   29   \n",
       "\n",
       "     neighbourhood  scholarship  hypertension  diabetes  alcoholism  handicap  \\\n",
       "6       GOIABEIRAS            0             0         0           0         0   \n",
       "7       GOIABEIRAS            0             0         0           0         0   \n",
       "11  NOVA PALESTINA            0             0         0           0         0   \n",
       "\n",
       "    sms_received no_show  scheduled_day_year  scheduled_day_month  \\\n",
       "6              0     Yes                2016                    4   \n",
       "7              0     Yes                2016                    4   \n",
       "11             1     Yes                2016                    4   \n",
       "\n",
       "   scheduled_day_month_name scheduled_day_week_name  scheduled_day_hour  \\\n",
       "6                     April               Wednesday                  15   \n",
       "7                     April               Wednesday                  15   \n",
       "11                    April                 Tuesday                   8   \n",
       "\n",
       "    days_to_appointment  \n",
       "6                     2  \n",
       "7                     2  \n",
       "11                    3  "
      ]
     },
     "execution_count": 24,
     "metadata": {},
     "output_type": "execute_result"
    }
   ],
   "source": [
    "df_noshow_yes.head(3)"
   ]
  },
  {
   "cell_type": "code",
   "execution_count": null,
   "metadata": {},
   "outputs": [],
   "source": []
  },
  {
   "cell_type": "markdown",
   "metadata": {},
   "source": [
    "#### Dataframe where the patient did show up for appointment\t"
   ]
  },
  {
   "cell_type": "code",
   "execution_count": 25,
   "metadata": {},
   "outputs": [],
   "source": [
    "df_noshow_no = df_noshow[df_noshow['no_show'] == 'No']"
   ]
  },
  {
   "cell_type": "code",
   "execution_count": 26,
   "metadata": {},
   "outputs": [
    {
     "data": {
      "text/html": [
       "<div>\n",
       "<style>\n",
       "    .dataframe thead tr:only-child th {\n",
       "        text-align: right;\n",
       "    }\n",
       "\n",
       "    .dataframe thead th {\n",
       "        text-align: left;\n",
       "    }\n",
       "\n",
       "    .dataframe tbody tr th {\n",
       "        vertical-align: top;\n",
       "    }\n",
       "</style>\n",
       "<table border=\"1\" class=\"dataframe\">\n",
       "  <thead>\n",
       "    <tr style=\"text-align: right;\">\n",
       "      <th></th>\n",
       "      <th>patient_id</th>\n",
       "      <th>gender</th>\n",
       "      <th>scheduled_day</th>\n",
       "      <th>appointment_day</th>\n",
       "      <th>age</th>\n",
       "      <th>neighbourhood</th>\n",
       "      <th>scholarship</th>\n",
       "      <th>hypertension</th>\n",
       "      <th>diabetes</th>\n",
       "      <th>alcoholism</th>\n",
       "      <th>handicap</th>\n",
       "      <th>sms_received</th>\n",
       "      <th>no_show</th>\n",
       "      <th>scheduled_day_year</th>\n",
       "      <th>scheduled_day_month</th>\n",
       "      <th>scheduled_day_month_name</th>\n",
       "      <th>scheduled_day_week_name</th>\n",
       "      <th>scheduled_day_hour</th>\n",
       "      <th>days_to_appointment</th>\n",
       "    </tr>\n",
       "  </thead>\n",
       "  <tbody>\n",
       "    <tr>\n",
       "      <th>5</th>\n",
       "      <td>9.598513e+13</td>\n",
       "      <td>F</td>\n",
       "      <td>2016-04-27 08:36:51</td>\n",
       "      <td>2016-04-29</td>\n",
       "      <td>76</td>\n",
       "      <td>REPÚBLICA</td>\n",
       "      <td>0</td>\n",
       "      <td>1</td>\n",
       "      <td>0</td>\n",
       "      <td>0</td>\n",
       "      <td>0</td>\n",
       "      <td>0</td>\n",
       "      <td>No</td>\n",
       "      <td>2016</td>\n",
       "      <td>4</td>\n",
       "      <td>April</td>\n",
       "      <td>Wednesday</td>\n",
       "      <td>8</td>\n",
       "      <td>2</td>\n",
       "    </tr>\n",
       "    <tr>\n",
       "      <th>9</th>\n",
       "      <td>7.812456e+13</td>\n",
       "      <td>F</td>\n",
       "      <td>2016-04-27 12:48:25</td>\n",
       "      <td>2016-04-29</td>\n",
       "      <td>19</td>\n",
       "      <td>CONQUISTA</td>\n",
       "      <td>0</td>\n",
       "      <td>0</td>\n",
       "      <td>0</td>\n",
       "      <td>0</td>\n",
       "      <td>0</td>\n",
       "      <td>0</td>\n",
       "      <td>No</td>\n",
       "      <td>2016</td>\n",
       "      <td>4</td>\n",
       "      <td>April</td>\n",
       "      <td>Wednesday</td>\n",
       "      <td>12</td>\n",
       "      <td>2</td>\n",
       "    </tr>\n",
       "    <tr>\n",
       "      <th>10</th>\n",
       "      <td>7.345362e+14</td>\n",
       "      <td>F</td>\n",
       "      <td>2016-04-27 14:58:11</td>\n",
       "      <td>2016-04-29</td>\n",
       "      <td>30</td>\n",
       "      <td>NOVA PALESTINA</td>\n",
       "      <td>0</td>\n",
       "      <td>0</td>\n",
       "      <td>0</td>\n",
       "      <td>0</td>\n",
       "      <td>0</td>\n",
       "      <td>0</td>\n",
       "      <td>No</td>\n",
       "      <td>2016</td>\n",
       "      <td>4</td>\n",
       "      <td>April</td>\n",
       "      <td>Wednesday</td>\n",
       "      <td>14</td>\n",
       "      <td>2</td>\n",
       "    </tr>\n",
       "  </tbody>\n",
       "</table>\n",
       "</div>"
      ],
      "text/plain": [
       "      patient_id gender       scheduled_day appointment_day  age  \\\n",
       "5   9.598513e+13      F 2016-04-27 08:36:51      2016-04-29   76   \n",
       "9   7.812456e+13      F 2016-04-27 12:48:25      2016-04-29   19   \n",
       "10  7.345362e+14      F 2016-04-27 14:58:11      2016-04-29   30   \n",
       "\n",
       "     neighbourhood  scholarship  hypertension  diabetes  alcoholism  handicap  \\\n",
       "5        REPÚBLICA            0             1         0           0         0   \n",
       "9        CONQUISTA            0             0         0           0         0   \n",
       "10  NOVA PALESTINA            0             0         0           0         0   \n",
       "\n",
       "    sms_received no_show  scheduled_day_year  scheduled_day_month  \\\n",
       "5              0      No                2016                    4   \n",
       "9              0      No                2016                    4   \n",
       "10             0      No                2016                    4   \n",
       "\n",
       "   scheduled_day_month_name scheduled_day_week_name  scheduled_day_hour  \\\n",
       "5                     April               Wednesday                   8   \n",
       "9                     April               Wednesday                  12   \n",
       "10                    April               Wednesday                  14   \n",
       "\n",
       "    days_to_appointment  \n",
       "5                     2  \n",
       "9                     2  \n",
       "10                    2  "
      ]
     },
     "execution_count": 26,
     "metadata": {},
     "output_type": "execute_result"
    }
   ],
   "source": [
    "df_noshow_no.head(3)"
   ]
  },
  {
   "cell_type": "code",
   "execution_count": null,
   "metadata": {},
   "outputs": [],
   "source": []
  },
  {
   "cell_type": "code",
   "execution_count": null,
   "metadata": {},
   "outputs": [],
   "source": []
  },
  {
   "cell_type": "markdown",
   "metadata": {},
   "source": [
    "## Exploratory Data Analysis(EDA)"
   ]
  },
  {
   "cell_type": "code",
   "execution_count": 27,
   "metadata": {},
   "outputs": [
    {
     "data": {
      "text/plain": [
       "(41027, 19)"
      ]
     },
     "execution_count": 27,
     "metadata": {},
     "output_type": "execute_result"
    }
   ],
   "source": [
    "df_noshow.shape"
   ]
  },
  {
   "cell_type": "code",
   "execution_count": 28,
   "metadata": {},
   "outputs": [
    {
     "name": "stdout",
     "output_type": "stream",
     "text": [
      "<class 'pandas.core.frame.DataFrame'>\n",
      "Int64Index: 41027 entries, 5 to 110523\n",
      "Data columns (total 19 columns):\n",
      "patient_id                  41027 non-null float64\n",
      "gender                      41027 non-null object\n",
      "scheduled_day               41027 non-null datetime64[ns]\n",
      "appointment_day             41027 non-null datetime64[ns]\n",
      "age                         41027 non-null int64\n",
      "neighbourhood               41027 non-null object\n",
      "scholarship                 41027 non-null int64\n",
      "hypertension                41027 non-null int64\n",
      "diabetes                    41027 non-null int64\n",
      "alcoholism                  41027 non-null int64\n",
      "handicap                    41027 non-null int64\n",
      "sms_received                41027 non-null int64\n",
      "no_show                     41027 non-null object\n",
      "scheduled_day_year          41027 non-null int64\n",
      "scheduled_day_month         41027 non-null int64\n",
      "scheduled_day_month_name    41027 non-null object\n",
      "scheduled_day_week_name     41027 non-null object\n",
      "scheduled_day_hour          41027 non-null int64\n",
      "days_to_appointment         41027 non-null int64\n",
      "dtypes: datetime64[ns](2), float64(1), int64(11), object(5)\n",
      "memory usage: 6.3+ MB\n"
     ]
    }
   ],
   "source": [
    "df_noshow.info()"
   ]
  },
  {
   "cell_type": "markdown",
   "metadata": {
    "collapsed": true
   },
   "source": [
    "### Summary Statistics"
   ]
  },
  {
   "cell_type": "code",
   "execution_count": 29,
   "metadata": {},
   "outputs": [
    {
     "data": {
      "text/html": [
       "<div>\n",
       "<style>\n",
       "    .dataframe thead tr:only-child th {\n",
       "        text-align: right;\n",
       "    }\n",
       "\n",
       "    .dataframe thead th {\n",
       "        text-align: left;\n",
       "    }\n",
       "\n",
       "    .dataframe tbody tr th {\n",
       "        vertical-align: top;\n",
       "    }\n",
       "</style>\n",
       "<table border=\"1\" class=\"dataframe\">\n",
       "  <thead>\n",
       "    <tr style=\"text-align: right;\">\n",
       "      <th></th>\n",
       "      <th>patient_id</th>\n",
       "      <th>age</th>\n",
       "      <th>scholarship</th>\n",
       "      <th>hypertension</th>\n",
       "      <th>diabetes</th>\n",
       "      <th>alcoholism</th>\n",
       "      <th>handicap</th>\n",
       "      <th>sms_received</th>\n",
       "      <th>scheduled_day_year</th>\n",
       "      <th>scheduled_day_month</th>\n",
       "      <th>scheduled_day_hour</th>\n",
       "      <th>days_to_appointment</th>\n",
       "    </tr>\n",
       "  </thead>\n",
       "  <tbody>\n",
       "    <tr>\n",
       "      <th>count</th>\n",
       "      <td>4.102700e+04</td>\n",
       "      <td>41027.000000</td>\n",
       "      <td>41027.000000</td>\n",
       "      <td>41027.000000</td>\n",
       "      <td>41027.000000</td>\n",
       "      <td>41027.000000</td>\n",
       "      <td>41027.000000</td>\n",
       "      <td>41027.000000</td>\n",
       "      <td>41027.000000</td>\n",
       "      <td>41027.000000</td>\n",
       "      <td>41027.000000</td>\n",
       "      <td>41027.000000</td>\n",
       "    </tr>\n",
       "    <tr>\n",
       "      <th>mean</th>\n",
       "      <td>1.437867e+14</td>\n",
       "      <td>39.667755</td>\n",
       "      <td>0.088746</td>\n",
       "      <td>0.220099</td>\n",
       "      <td>0.082434</td>\n",
       "      <td>0.026154</td>\n",
       "      <td>0.020791</td>\n",
       "      <td>0.377264</td>\n",
       "      <td>2015.999293</td>\n",
       "      <td>4.890243</td>\n",
       "      <td>11.133936</td>\n",
       "      <td>6.438857</td>\n",
       "    </tr>\n",
       "    <tr>\n",
       "      <th>std</th>\n",
       "      <td>2.520483e+14</td>\n",
       "      <td>22.900547</td>\n",
       "      <td>0.284381</td>\n",
       "      <td>0.414318</td>\n",
       "      <td>0.275027</td>\n",
       "      <td>0.159594</td>\n",
       "      <td>0.156223</td>\n",
       "      <td>0.484708</td>\n",
       "      <td>0.026578</td>\n",
       "      <td>0.676376</td>\n",
       "      <td>3.332926</td>\n",
       "      <td>5.739841</td>\n",
       "    </tr>\n",
       "    <tr>\n",
       "      <th>min</th>\n",
       "      <td>5.628261e+06</td>\n",
       "      <td>0.000000</td>\n",
       "      <td>0.000000</td>\n",
       "      <td>0.000000</td>\n",
       "      <td>0.000000</td>\n",
       "      <td>0.000000</td>\n",
       "      <td>0.000000</td>\n",
       "      <td>0.000000</td>\n",
       "      <td>2015.000000</td>\n",
       "      <td>1.000000</td>\n",
       "      <td>6.000000</td>\n",
       "      <td>1.000000</td>\n",
       "    </tr>\n",
       "    <tr>\n",
       "      <th>25%</th>\n",
       "      <td>3.951689e+12</td>\n",
       "      <td>21.000000</td>\n",
       "      <td>0.000000</td>\n",
       "      <td>0.000000</td>\n",
       "      <td>0.000000</td>\n",
       "      <td>0.000000</td>\n",
       "      <td>0.000000</td>\n",
       "      <td>0.000000</td>\n",
       "      <td>2016.000000</td>\n",
       "      <td>5.000000</td>\n",
       "      <td>8.000000</td>\n",
       "      <td>2.000000</td>\n",
       "    </tr>\n",
       "    <tr>\n",
       "      <th>50%</th>\n",
       "      <td>2.927465e+13</td>\n",
       "      <td>40.000000</td>\n",
       "      <td>0.000000</td>\n",
       "      <td>0.000000</td>\n",
       "      <td>0.000000</td>\n",
       "      <td>0.000000</td>\n",
       "      <td>0.000000</td>\n",
       "      <td>0.000000</td>\n",
       "      <td>2016.000000</td>\n",
       "      <td>5.000000</td>\n",
       "      <td>11.000000</td>\n",
       "      <td>5.000000</td>\n",
       "    </tr>\n",
       "    <tr>\n",
       "      <th>75%</th>\n",
       "      <td>9.305409e+13</td>\n",
       "      <td>58.000000</td>\n",
       "      <td>0.000000</td>\n",
       "      <td>0.000000</td>\n",
       "      <td>0.000000</td>\n",
       "      <td>0.000000</td>\n",
       "      <td>0.000000</td>\n",
       "      <td>1.000000</td>\n",
       "      <td>2016.000000</td>\n",
       "      <td>5.000000</td>\n",
       "      <td>14.000000</td>\n",
       "      <td>8.000000</td>\n",
       "    </tr>\n",
       "    <tr>\n",
       "      <th>max</th>\n",
       "      <td>9.999320e+14</td>\n",
       "      <td>115.000000</td>\n",
       "      <td>1.000000</td>\n",
       "      <td>1.000000</td>\n",
       "      <td>1.000000</td>\n",
       "      <td>1.000000</td>\n",
       "      <td>4.000000</td>\n",
       "      <td>1.000000</td>\n",
       "      <td>2016.000000</td>\n",
       "      <td>12.000000</td>\n",
       "      <td>20.000000</td>\n",
       "      <td>30.000000</td>\n",
       "    </tr>\n",
       "  </tbody>\n",
       "</table>\n",
       "</div>"
      ],
      "text/plain": [
       "         patient_id           age   scholarship  hypertension      diabetes  \\\n",
       "count  4.102700e+04  41027.000000  41027.000000  41027.000000  41027.000000   \n",
       "mean   1.437867e+14     39.667755      0.088746      0.220099      0.082434   \n",
       "std    2.520483e+14     22.900547      0.284381      0.414318      0.275027   \n",
       "min    5.628261e+06      0.000000      0.000000      0.000000      0.000000   \n",
       "25%    3.951689e+12     21.000000      0.000000      0.000000      0.000000   \n",
       "50%    2.927465e+13     40.000000      0.000000      0.000000      0.000000   \n",
       "75%    9.305409e+13     58.000000      0.000000      0.000000      0.000000   \n",
       "max    9.999320e+14    115.000000      1.000000      1.000000      1.000000   \n",
       "\n",
       "         alcoholism      handicap  sms_received  scheduled_day_year  \\\n",
       "count  41027.000000  41027.000000  41027.000000        41027.000000   \n",
       "mean       0.026154      0.020791      0.377264         2015.999293   \n",
       "std        0.159594      0.156223      0.484708            0.026578   \n",
       "min        0.000000      0.000000      0.000000         2015.000000   \n",
       "25%        0.000000      0.000000      0.000000         2016.000000   \n",
       "50%        0.000000      0.000000      0.000000         2016.000000   \n",
       "75%        0.000000      0.000000      1.000000         2016.000000   \n",
       "max        1.000000      4.000000      1.000000         2016.000000   \n",
       "\n",
       "       scheduled_day_month  scheduled_day_hour  days_to_appointment  \n",
       "count         41027.000000        41027.000000         41027.000000  \n",
       "mean              4.890243           11.133936             6.438857  \n",
       "std               0.676376            3.332926             5.739841  \n",
       "min               1.000000            6.000000             1.000000  \n",
       "25%               5.000000            8.000000             2.000000  \n",
       "50%               5.000000           11.000000             5.000000  \n",
       "75%               5.000000           14.000000             8.000000  \n",
       "max              12.000000           20.000000            30.000000  "
      ]
     },
     "execution_count": 29,
     "metadata": {},
     "output_type": "execute_result"
    }
   ],
   "source": [
    "df_noshow.describe()"
   ]
  },
  {
   "cell_type": "code",
   "execution_count": null,
   "metadata": {},
   "outputs": [],
   "source": []
  },
  {
   "cell_type": "markdown",
   "metadata": {},
   "source": [
    "### Predicting \"No Show Appointment\" based on feature \"scholarship\" and \"no_show.\""
   ]
  },
  {
   "cell_type": "code",
   "execution_count": null,
   "metadata": {},
   "outputs": [],
   "source": []
  },
  {
   "cell_type": "code",
   "execution_count": 30,
   "metadata": {},
   "outputs": [
    {
     "name": "stdout",
     "output_type": "stream",
     "text": [
      "Probability of patient having scholarship Not keeping appointment     | 0.3299.\n",
      "Probability of patient having scholarship keeping appointment         | 0.6701.\n",
      "Probability of patient NOT having scholarship Not keeping appointment | 0.0321.\n",
      "Probability of patient NOT having scholarship keeping appointment     | 0.0653.\n"
     ]
    }
   ],
   "source": [
    "def probability_scholarship(df):\n",
    "    \"\"\"This function returns the probability of patient  Keeping and Not-Keeping the doctor's appointment based on\n",
    "         whether he/she received the scholarship or did not receive scholarship.\n",
    "    Args:\n",
    "        df: Dataset's Panda Dataframe\n",
    "    Returns:\n",
    "        rtype:(float, float, float, float)\n",
    "    \"\"\"\n",
    "    \n",
    "    df_scholarship_no_show_yes = df_noshow.query('scholarship == 1 and no_show == \"Yes\"').reset_index(drop=True)\n",
    "    df_scholarship_no_show_no =  df_noshow.query(' scholarship == 1 and no_show == \"No\" ').reset_index(drop=True)\n",
    "    \n",
    "    df_no_scholarship_no_show_yes = df_noshow.query('scholarship == 0 and no_show == \"Yes\"').reset_index(drop=True)\n",
    "    df_no_scholarship_no_show_no =  df_noshow.query(' scholarship == 0 and no_show == \"No\" ').reset_index(drop=True)\n",
    "    \n",
    "    total_scholarship = len(df_scholarship_no_show_yes['no_show']) + len(df_scholarship_no_show_no['no_show'])\n",
    "    total_no_scholarship = len(df_no_scholarship_no_show_yes['no_show']) + len(df_no_scholarship_no_show_no['no_show'])\n",
    "    \n",
    "    probability_scholarship_no_show_yes  = len(df_scholarship_no_show_yes['no_show']) / total_scholarship\n",
    "    probability_scholarship_no_show_no = len(df_scholarship_no_show_no['no_show']) / total_scholarship\n",
    "    \n",
    "    probability_no_scholarship_no_show_yes  = len(df_scholarship_no_show_yes['no_show']) / total_no_scholarship\n",
    "    probability_no_scholarship_no_show_no = len(df_scholarship_no_show_no['no_show']) / total_no_scholarship\n",
    "    \n",
    "    return ( probability_scholarship_no_show_yes, probability_scholarship_no_show_no, probability_no_scholarship_no_show_yes, probability_no_scholarship_no_show_no )\n",
    "\n",
    "\n",
    "\n",
    "p_scholarship = probability_scholarship(df_noshow)\n",
    "p_scholarship_no_show_yes, p_scholarship_no_show_no, p_no_scholarship_no_show_yes, p_no_scholarship_no_show_no  = p_scholarship\n",
    "\n",
    "\n",
    "print(\"Probability of patient having scholarship Not keeping appointment     | {:^.4f}.\".format(p_scholarship_no_show_yes))\n",
    "print(\"Probability of patient having scholarship keeping appointment         | {:^.4f}.\".format(p_scholarship_no_show_no))\n",
    "\n",
    "print(\"Probability of patient NOT having scholarship Not keeping appointment | {:^.4f}.\".format(p_no_scholarship_no_show_yes))\n",
    "print(\"Probability of patient NOT having scholarship keeping appointment     | {:^.4f}.\".format(p_no_scholarship_no_show_no))\n",
    " \n"
   ]
  },
  {
   "cell_type": "markdown",
   "metadata": {
    "collapsed": true
   },
   "source": [
    "#### Conclusion:Thus Patients enrolled in government scholarship have the high probability(0.7626) of keeping Appointment in comparison to the prababilty of Patients NOT enrolled in government scholarship program(0.0831). Therefore, financial incentive or \"scholarship\" support by the government is may be factor for Patient for showing up for medical appointments.\n"
   ]
  },
  {
   "cell_type": "code",
   "execution_count": null,
   "metadata": {},
   "outputs": [],
   "source": []
  },
  {
   "cell_type": "markdown",
   "metadata": {
    "collapsed": true
   },
   "source": [
    "### Predicting \"No Show Appointment\" based on feature \"hypertension\" and \"no_show.\""
   ]
  },
  {
   "cell_type": "code",
   "execution_count": 31,
   "metadata": {},
   "outputs": [],
   "source": [
    "def probability_hypertension(df):\n",
    "    \"\"\"This function returns the probability of hypertension patient Keeping or Not-Keeping the doctor's appointment and\n",
    "        the probability of non-hypertension patient Keeping or Not-Keeping the doctor's appointment.  \n",
    "    Args:\n",
    "        df: Dataset's Panda Dataframe\n",
    "    Returns:\n",
    "        rtype:(float, float, float, float)\n",
    "    \"\"\"\n",
    "    df_hypertension_no_show_yes = df_noshow.query('hypertension == 1 and no_show == \"Yes\"').reset_index(drop=True)\n",
    "    df_hypertension_no_show_no =  df_noshow.query(' hypertension == 1 and no_show == \"No\" ').reset_index(drop=True)\n",
    "    \n",
    "    df_no_hypertension_no_show_yes = df_noshow.query('hypertension == 0 and no_show == \"Yes\"').reset_index(drop=True)\n",
    "    df_no_hypertension_no_show_no =  df_noshow.query(' hypertension == 0 and no_show == \"No\" ').reset_index(drop=True)\n",
    "    \n",
    "    total_hypertension = len(df_hypertension_no_show_yes['no_show']) + len(df_hypertension_no_show_no['no_show'])\n",
    "    total_no_hypertension = len(df_no_hypertension_no_show_yes['no_show']) + len(df_no_hypertension_no_show_no['no_show'])\n",
    "    \n",
    "    probability_hypertension_no_show_yes  = len(df_hypertension_no_show_yes['no_show']) / total_hypertension\n",
    "    probability_hypertension_no_show_no = len(df_hypertension_no_show_no['no_show']) / total_hypertension\n",
    "    \n",
    "    probability_no_hypertension_no_show_yes  = len(df_hypertension_no_show_yes['no_show']) / total_no_hypertension\n",
    "    probability_no_hypertension_no_show_no = len(df_hypertension_no_show_no['no_show']) / total_no_hypertension\n",
    "    \n",
    "    return ( probability_hypertension_no_show_yes, probability_hypertension_no_show_no, probability_no_hypertension_no_show_yes, probability_no_hypertension_no_show_no )\n",
    "\n"
   ]
  },
  {
   "cell_type": "code",
   "execution_count": 32,
   "metadata": {},
   "outputs": [
    {
     "name": "stdout",
     "output_type": "stream",
     "text": [
      "Probability of hypertension Not keeping appointment     | 0.2237.\n",
      "Probability of hypertension keeping appointment         | 0.7763.\n",
      "Probability of NOT hypertension Not keeping appointment | 0.0631.\n",
      "Probability of NOT hypertension keeping appointment     | 0.2191.\n"
     ]
    }
   ],
   "source": [
    "p_hypertension = probability_hypertension(df_noshow)\n",
    "p_hypertension_no_show_yes, p_hypertension_no_show_no, p_no_hypertension_no_show_yes, p_no_hypertension_no_show_no  = p_hypertension\n",
    "\n",
    "\n",
    "print(\"Probability of hypertension Not keeping appointment     | {:^.4f}.\".format(p_hypertension_no_show_yes))\n",
    "print(\"Probability of hypertension keeping appointment         | {:^.4f}.\".format(p_hypertension_no_show_no))\n",
    "\n",
    "print(\"Probability of NOT hypertension Not keeping appointment | {:^.4f}.\".format(p_no_hypertension_no_show_yes))\n",
    "print(\"Probability of NOT hypertension keeping appointment     | {:^.4f}.\".format(p_no_hypertension_no_show_no))\n"
   ]
  },
  {
   "cell_type": "markdown",
   "metadata": {},
   "source": [
    "#### Because the probability of the patient in hypertension condition and keeping an appointment is more(0.8270) than the patient NOT in hypertension condition and keeping an appointment(0.2032), thus feature \"hypertension\" does not help in predicting whether the patient will keep the appointment or not.\n",
    "\n"
   ]
  },
  {
   "cell_type": "code",
   "execution_count": null,
   "metadata": {},
   "outputs": [],
   "source": []
  },
  {
   "cell_type": "markdown",
   "metadata": {},
   "source": [
    "### Predicting \"No Show Appointment\" based on feature \"diabetes\" and \"no_show.\""
   ]
  },
  {
   "cell_type": "code",
   "execution_count": 33,
   "metadata": {},
   "outputs": [],
   "source": [
    "\n",
    "def probability_diabetes(df):\n",
    "    \"\"\"This function returns the probability of diabetes patient Keeping or Not-Keeping the doctor's\n",
    "   appointment and the probability of non-diabetic patient Keeping or Not-Keeping the doctor's appointment.  \n",
    "    Args:\n",
    "        df: Dataset's Panda Dataframe\n",
    "    Returns:\n",
    "        rtype:(float, float, float, float)\n",
    "    \"\"\"\n",
    "    df_diabetes_no_show_yes = df_noshow.query('diabetes == 1 and no_show == \"Yes\"').reset_index(drop=True)\n",
    "    df_diabetes_no_show_no =  df_noshow.query(' diabetes == 1 and no_show == \"No\" ').reset_index(drop=True)\n",
    "    \n",
    "    df_no_diabetes_no_show_yes = df_noshow.query('diabetes == 0 and no_show == \"Yes\"').reset_index(drop=True)\n",
    "    df_no_diabetes_no_show_no =  df_noshow.query(' diabetes == 0 and no_show == \"No\" ').reset_index(drop=True)\n",
    "    \n",
    "    total_diabetes = len(df_diabetes_no_show_yes['no_show']) + len(df_diabetes_no_show_no['no_show'])\n",
    "    total_no_diabetes = len(df_no_diabetes_no_show_yes['no_show']) + len(df_no_diabetes_no_show_no['no_show'])\n",
    "    \n",
    "    probability_diabetes_no_show_yes  = len(df_diabetes_no_show_yes['no_show']) / total_diabetes\n",
    "    probability_diabetes_no_show_no = len(df_diabetes_no_show_no['no_show']) / total_diabetes\n",
    "    \n",
    "    probability_no_diabetes_no_show_yes  = len(df_diabetes_no_show_yes['no_show']) / total_no_diabetes\n",
    "    probability_no_diabetes_no_show_no = len(df_diabetes_no_show_no['no_show']) / total_no_diabetes\n",
    "    \n",
    "    return ( probability_diabetes_no_show_yes, probability_diabetes_no_show_no, probability_no_diabetes_no_show_yes, probability_no_diabetes_no_show_no )\n"
   ]
  },
  {
   "cell_type": "code",
   "execution_count": 34,
   "metadata": {},
   "outputs": [
    {
     "name": "stdout",
     "output_type": "stream",
     "text": [
      "Probability of diabetes Not keeping appointment     | 0.2401.\n",
      "Probability of diabetes keeping appointment         | 0.7599.\n",
      "Probability of NOT diabetes Not keeping appointment | 0.0216.\n",
      "Probability of NOT diabetes keeping appointment     | 0.0683.\n"
     ]
    }
   ],
   "source": [
    "p_diabetes = probability_diabetes(df_noshow)\n",
    "p_diabetes_no_show_yes, p_diabetes_no_show_no, p_no_diabetes_no_show_yes, p_no_diabetes_no_show_no  = p_diabetes\n",
    "\n",
    "\n",
    "print(\"Probability of diabetes Not keeping appointment     | {:^.4f}.\".format(p_diabetes_no_show_yes))\n",
    "print(\"Probability of diabetes keeping appointment         | {:^.4f}.\".format(p_diabetes_no_show_no))\n",
    "\n",
    "print(\"Probability of NOT diabetes Not keeping appointment | {:^.4f}.\".format(p_no_diabetes_no_show_yes))\n",
    "print(\"Probability of NOT diabetes keeping appointment     | {:^.4f}.\".format(p_no_diabetes_no_show_no))\n"
   ]
  },
  {
   "cell_type": "markdown",
   "metadata": {},
   "source": [
    "#### Because the probability of the patient in diabetes condition and keeping an appointment is more(0.8200) than the patient NOT in diabetes condition and keeping an appointment(0.0635), thus feature \"diabetes\" does not help in predicting whether the patient will keep the appointment or not."
   ]
  },
  {
   "cell_type": "code",
   "execution_count": null,
   "metadata": {},
   "outputs": [],
   "source": []
  },
  {
   "cell_type": "markdown",
   "metadata": {
    "collapsed": true
   },
   "source": [
    "### Predicting \"No Show Appointment\" based on feature \"alcoholism\" and \"no_show.\""
   ]
  },
  {
   "cell_type": "code",
   "execution_count": 35,
   "metadata": {},
   "outputs": [],
   "source": [
    "def probability_alcoholism(df):\n",
    "    \"\"\"This function returns the probability of alcoholic patient Keeping or Not-Keeping the doctor's appointment\n",
    "   and the probability of non-alcoholic patient Keeping and Not-Keeping the doctor's appointment.  \n",
    "    Args:\n",
    "        df: Dataset's Panda Dataframe\n",
    "    Returns:\n",
    "        rtype:(float, float, float, float)\n",
    "    \"\"\"\n",
    "    df_alcoholism_no_show_yes = df_noshow.query('alcoholism == 1 and no_show == \"Yes\"').reset_index(drop=True)\n",
    "    df_alcoholism_no_show_no =  df_noshow.query(' alcoholism == 1 and no_show == \"No\" ').reset_index(drop=True)\n",
    "    \n",
    "    df_no_alcoholism_no_show_yes = df_noshow.query('alcoholism == 0 and no_show == \"Yes\"').reset_index(drop=True)\n",
    "    df_no_alcoholism_no_show_no =  df_noshow.query(' alcoholism == 0 and no_show == \"No\" ').reset_index(drop=True)\n",
    "    \n",
    "    total_alcoholism = len(df_alcoholism_no_show_yes['no_show']) + len(df_alcoholism_no_show_no['no_show'])\n",
    "    total_no_alcoholism = len(df_no_alcoholism_no_show_yes['no_show']) + len(df_no_alcoholism_no_show_no['no_show'])\n",
    "    \n",
    "    probability_alcoholism_no_show_yes  = len(df_alcoholism_no_show_yes['no_show']) / total_alcoholism\n",
    "    probability_alcoholism_no_show_no = len(df_alcoholism_no_show_no['no_show']) / total_alcoholism\n",
    "    \n",
    "    probability_no_alcoholism_no_show_yes  = len(df_alcoholism_no_show_yes['no_show']) / total_no_alcoholism\n",
    "    probability_no_alcoholism_no_show_no = len(df_alcoholism_no_show_no['no_show']) / total_no_alcoholism\n",
    "    \n",
    "    return ( probability_alcoholism_no_show_yes, probability_alcoholism_no_show_no, probability_no_alcoholism_no_show_yes, probability_no_alcoholism_no_show_no )"
   ]
  },
  {
   "cell_type": "code",
   "execution_count": 36,
   "metadata": {},
   "outputs": [
    {
     "name": "stdout",
     "output_type": "stream",
     "text": [
      "Probability of alcoholism Not keeping appointment     | 0.3234.\n",
      "Probability of alcoholism keeping appointment         | 0.6766.\n",
      "Probability of NOT alcoholism Not keeping appointment | 0.0087.\n",
      "Probability of NOT alcoholism keeping appointment     | 0.0182.\n"
     ]
    }
   ],
   "source": [
    "p_alcoholism = probability_alcoholism(df_noshow)\n",
    "p_alcoholism_no_show_yes, p_alcoholism_no_show_no, p_no_alcoholism_no_show_yes, p_no_alcoholism_no_show_no  = p_alcoholism\n",
    "\n",
    "\n",
    "print(\"Probability of alcoholism Not keeping appointment     | {:^.4f}.\".format(p_alcoholism_no_show_yes))\n",
    "print(\"Probability of alcoholism keeping appointment         | {:^.4f}.\".format(p_alcoholism_no_show_no))\n",
    "\n",
    "print(\"Probability of NOT alcoholism Not keeping appointment | {:^.4f}.\".format(p_no_alcoholism_no_show_yes))\n",
    "print(\"Probability of NOT alcoholism keeping appointment     | {:^.4f}.\".format(p_no_alcoholism_no_show_no))\n",
    "\n"
   ]
  },
  {
   "cell_type": "markdown",
   "metadata": {},
   "source": [
    "#### Because the probability of the patient in alcoholism condition and keeping an appointment is more(0.79) than the patient NOT in alcoholism condition and keeping an appointment(0.0250), thus feature \"handicap\" does not help in predicting whether the patient will keep the appointment or not."
   ]
  },
  {
   "cell_type": "code",
   "execution_count": null,
   "metadata": {},
   "outputs": [],
   "source": []
  },
  {
   "cell_type": "markdown",
   "metadata": {
    "collapsed": true
   },
   "source": [
    " ### Predicting \"No Show Appointment\" based on feature \"handicap\" and \"no_show.\""
   ]
  },
  {
   "cell_type": "code",
   "execution_count": 37,
   "metadata": {},
   "outputs": [],
   "source": [
    "def probability_handicap(df):\n",
    "    \"\"\"This function returns the probability of handicap patient Keeping or Not-Keeping the doctor's\n",
    "    appointment and the probability of non-handicap patient Keeping and Not-Keeping the doctor's appointment.  \n",
    "    Args:\n",
    "        df: Dataset's Panda Dataframe\n",
    "    Returns:\n",
    "        rtype:(float, float, float, float)\n",
    "    \"\"\"\n",
    "    df_handicap_no_show_yes = df_noshow.query('handicap == 1 and no_show == \"Yes\"').reset_index(drop=True)\n",
    "    df_handicap_no_show_no =  df_noshow.query(' handicap == 1 and no_show == \"No\" ').reset_index(drop=True)\n",
    "    \n",
    "    df_no_handicap_no_show_yes = df_noshow.query('handicap == 0 and no_show == \"Yes\"').reset_index(drop=True)\n",
    "    df_no_handicap_no_show_no =  df_noshow.query(' handicap == 0 and no_show == \"No\" ').reset_index(drop=True)\n",
    "    \n",
    "    total_handicap = len(df_handicap_no_show_yes['no_show']) + len(df_handicap_no_show_no['no_show'])\n",
    "    total_no_handicap = len(df_no_handicap_no_show_yes['no_show']) + len(df_no_handicap_no_show_no['no_show'])\n",
    "    \n",
    "    probability_handicap_no_show_yes  = len(df_handicap_no_show_yes['no_show']) / total_handicap\n",
    "    probability_handicap_no_show_no = len(df_handicap_no_show_no['no_show']) / total_handicap\n",
    "    \n",
    "    probability_no_handicap_no_show_yes  = len(df_handicap_no_show_yes['no_show']) / total_no_handicap\n",
    "    probability_no_handicap_no_show_no = len(df_handicap_no_show_no['no_show']) / total_no_handicap\n",
    "    \n",
    "    return ( probability_handicap_no_show_yes, probability_handicap_no_show_no, probability_no_handicap_no_show_yes, probability_no_handicap_no_show_no )\n"
   ]
  },
  {
   "cell_type": "code",
   "execution_count": 38,
   "metadata": {},
   "outputs": [
    {
     "name": "stdout",
     "output_type": "stream",
     "text": [
      "Probability of Handicap Not keeping appointment     | 0.2358.\n",
      "Probability of Handicap keeping appointment         | 0.7642.\n",
      "Probability of NOT Handicap Not keeping appointment | 0.0041.\n",
      "Probability of NOT Handicap keeping appointment     | 0.0134.\n",
      "<class 'float'>\n"
     ]
    }
   ],
   "source": [
    "p_handicap = probability_handicap(df_noshow)\n",
    "p_handicap_no_show_yes, p_handicap_no_show_no, p_no_handicap_no_show_yes, p_no_handicap_no_show_no  = p_handicap\n",
    "\n",
    "\n",
    "print(\"Probability of Handicap Not keeping appointment     | {:^.4f}.\".format(p_handicap_no_show_yes))\n",
    "print(\"Probability of Handicap keeping appointment         | {:^.4f}.\".format(p_handicap_no_show_no))\n",
    "\n",
    "print(\"Probability of NOT Handicap Not keeping appointment | {:^.4f}.\".format(p_no_handicap_no_show_yes))\n",
    "print(\"Probability of NOT Handicap keeping appointment     | {:^.4f}.\".format(p_no_handicap_no_show_no))\n",
    "print(type(p_handicap_no_show_yes))"
   ]
  },
  {
   "cell_type": "markdown",
   "metadata": {},
   "source": [
    "#### Because the probability of people in handicap condition and keeping an appointment is more(0.7642) than people NOT in handicap condition and keeping an appointment(0.0134), thus feature \"handicap\" does not help in predicting whether the patient will keep the appointment or not."
   ]
  },
  {
   "cell_type": "code",
   "execution_count": null,
   "metadata": {},
   "outputs": [],
   "source": []
  },
  {
   "cell_type": "markdown",
   "metadata": {},
   "source": [
    "### Predicting \"No Show Appointment\" based on feature \"sms_received\" and \"no_show.\""
   ]
  },
  {
   "cell_type": "code",
   "execution_count": 39,
   "metadata": {},
   "outputs": [],
   "source": [
    "def probability_sms_received(df):\n",
    "    \"\"\"This function returns the probability of patient Keeping or Not-Keeping the doctor's appointment\n",
    "    based on whether he received SMS-Message or did not received SMS-Message.\n",
    "    Args:\n",
    "        df: Dataset's Panda Dataframe\n",
    "    Returns:\n",
    "        rtype:(float, float, float, float)\n",
    "\n",
    "    \"\"\"\n",
    "    df_sms_no_show_yes = df_noshow.query('sms_received == 1 and no_show == \"Yes\"').reset_index(drop=True)\n",
    "    df_sms_no_show_no =  df_noshow.query(' sms_received == 1 and no_show == \"No\" ').reset_index(drop=True)\n",
    "    \n",
    "    df_no_sms_no_show_yes = df_noshow.query('sms_received == 0 and no_show == \"Yes\"').reset_index(drop=True)\n",
    "    df_no_sms_no_show_no =  df_noshow.query(' sms_received == 0 and no_show == \"No\" ').reset_index(drop=True)\n",
    "    \n",
    "    total_sms = len(df_sms_no_show_yes['no_show']) + len(df_sms_no_show_no['no_show'])\n",
    "    total_no_sms = len(df_no_sms_no_show_yes['no_show']) + len(df_no_sms_no_show_no['no_show'])\n",
    "    \n",
    "    probability_sms_no_show_yes  = len(df_sms_no_show_yes['no_show']) / total_sms\n",
    "    probability_sms_no_show_no = len(df_sms_no_show_no['no_show']) / total_sms\n",
    "    \n",
    "    probability_no_sms_no_show_yes  = len(df_sms_no_show_yes['no_show']) / total_no_sms\n",
    "    probability_no_sms_no_show_no = len(df_sms_no_show_no['no_show']) / total_no_sms\n",
    "    \n",
    "    return ( probability_sms_no_show_yes, probability_sms_no_show_no, probability_no_sms_no_show_yes, probability_no_sms_no_show_no )\n",
    "    "
   ]
  },
  {
   "cell_type": "code",
   "execution_count": 40,
   "metadata": {},
   "outputs": [
    {
     "name": "stdout",
     "output_type": "stream",
     "text": [
      "Probability of SMS received & Not keeping appointment     | 0.2608.\n",
      "Probability of SMS received & keeping appointment         | 0.7392.\n",
      "Probability of SMS NOT received & Not keeping appointment | 0.1580.\n",
      "Probability of SMS NOT received & keeping appointment     | 0.4478.\n"
     ]
    }
   ],
   "source": [
    "p_sms = probability_sms_received(df_noshow)\n",
    "p_sms_no_show_yes, p_sms_no_show_no, p_no_sms_no_show_yes, p_no_sms_no_show_no  = p_sms\n",
    "\n",
    "\n",
    "print(\"Probability of SMS received & Not keeping appointment     | {:^.4f}.\".format(p_sms_no_show_yes))\n",
    "print(\"Probability of SMS received & keeping appointment         | {:^.4f}.\".format(p_sms_no_show_no))\n",
    "\n",
    "print(\"Probability of SMS NOT received & Not keeping appointment | {:^.4f}.\".format(p_no_sms_no_show_yes))\n",
    "print(\"Probability of SMS NOT received & keeping appointment     | {:^.4f}.\".format(p_no_sms_no_show_no))\n"
   ]
  },
  {
   "cell_type": "markdown",
   "metadata": {},
   "source": [
    "#### Because the probability of people receiving SMS text and keeping an appointment(0.7392) is more than people NOT receiving SMS and keeping an appointment(0.4478), thus SMS text does help the patient in keeping the appointment. Thus SMS text service should stay put."
   ]
  },
  {
   "cell_type": "code",
   "execution_count": null,
   "metadata": {},
   "outputs": [],
   "source": []
  },
  {
   "cell_type": "code",
   "execution_count": null,
   "metadata": {},
   "outputs": [],
   "source": []
  },
  {
   "cell_type": "markdown",
   "metadata": {
    "collapsed": true
   },
   "source": [
    "### Predicting \"No Show Appointment\" based on feature \"gender\" and \"no_show.\""
   ]
  },
  {
   "cell_type": "code",
   "execution_count": 41,
   "metadata": {},
   "outputs": [],
   "source": [
    "def probability_gender_male(df):\n",
    "    \"\"\"This function returns the probability of the patient having Gender: Male,\n",
    "        Keeping or Not-Keeping the doctor's appointment. \n",
    "    Args:\n",
    "        df: Dataset's Panda Dataframe\n",
    "    Returns:\n",
    "        rtype:(float, float, float, float)\n",
    "    \"\"\"\n",
    "    df_gender_no_show_yes = df.query(' gender == \"M\" and no_show == \"Yes\" ').reset_index(drop=True)\n",
    "    df_gender_no_show_no = df.query(' gender == \"M\" and no_show == \"No\" ').reset_index(drop=True)\n",
    "    \n",
    "    total = len(df_gender_no_show_yes['no_show']) + len(df_gender_no_show_no['no_show'])\n",
    "    \n",
    "    probability_no_show_no  = len(df_gender_no_show_no['no_show']) / total\n",
    "    probability_no_show_yes = len(df_gender_no_show_yes['no_show']) / total\n",
    "    \n",
    "    return (probability_no_show_no, probability_no_show_yes)\n",
    "    \n",
    "\n",
    "    \n",
    "def probability_gender_female(df):\n",
    "    \"\"\"This function returns the probability of the patient having Gender: Female,\n",
    "       Keeping or Not-Keeping the doctor's appointment. \n",
    "    Args:\n",
    "        df: Dataset's Panda Dataframe\n",
    "    Returns:\n",
    "        rtype:(float, float, float, float)\n",
    "    \"\"\"\n",
    "    df_gender_no_show_yes = df.query(' gender == \"F\" and no_show == \"Yes\" ').reset_index(drop=True)\n",
    "    df_gender_no_show_no = df.query(' gender == \"F\" and no_show == \"No\" ').reset_index(drop=True)\n",
    "\n",
    "    total = len(df_gender_no_show_yes['no_show']) + len(df_gender_no_show_no['no_show'])\n",
    "  \n",
    "    probability_no_show_no  = len(df_gender_no_show_no['no_show']) / total\n",
    "    probability_no_show_yes = len(df_gender_no_show_yes['no_show']) / total\n",
    "\n",
    "    return (probability_no_show_no, probability_no_show_yes)"
   ]
  },
  {
   "cell_type": "code",
   "execution_count": 42,
   "metadata": {},
   "outputs": [
    {
     "name": "stdout",
     "output_type": "stream",
     "text": [
      "Probability of Gender Male keeping appointment      | 0.7290.\n",
      "Probability of Gender Male Not keeping appointment  | 0.2710.\n"
     ]
    }
   ],
   "source": [
    "p_m = probability_gender_male(df_noshow)\n",
    "p_m_no_show_no, p_m_no_show_yes = p_m\n",
    "\n",
    "print(\"Probability of Gender Male keeping appointment      | {:^.4f}.\".format(p_m_no_show_no))\n",
    "print(\"Probability of Gender Male Not keeping appointment  | {:^.4f}.\".format(p_m_no_show_yes))"
   ]
  },
  {
   "cell_type": "code",
   "execution_count": null,
   "metadata": {},
   "outputs": [],
   "source": []
  },
  {
   "cell_type": "code",
   "execution_count": 43,
   "metadata": {},
   "outputs": [
    {
     "name": "stdout",
     "output_type": "stream",
     "text": [
      "Probability of Gender Female keeping appointment      | 0.7318.\n",
      "Probability of Gender Female Not keeping appointment  | 0.2682.\n"
     ]
    }
   ],
   "source": [
    "p_f = probability_gender_female(df_noshow)\n",
    "p_f_no_show_no, p_f_no_show_yes = p_f\n",
    "\n",
    "print(\"Probability of Gender Female keeping appointment      | {:^.4f}.\".format(p_f_no_show_no))\n",
    "print(\"Probability of Gender Female Not keeping appointment  | {:^.4f}.\".format(p_f_no_show_yes))"
   ]
  },
  {
   "cell_type": "markdown",
   "metadata": {
    "collapsed": true
   },
   "source": [
    "#### Probability of keeping the doctor appointment by gender Female(0.7318) is slightly more than Male(0.7290) thus not a good predictor of keeping the appointment by gender.\n"
   ]
  },
  {
   "cell_type": "code",
   "execution_count": null,
   "metadata": {},
   "outputs": [],
   "source": []
  },
  {
   "cell_type": "markdown",
   "metadata": {},
   "source": [
    "## Plotting Trend"
   ]
  },
  {
   "cell_type": "markdown",
   "metadata": {},
   "source": [
    "#### Plot 1:Finding if there is a trend between Age and keeping the appointment or not."
   ]
  },
  {
   "cell_type": "code",
   "execution_count": 44,
   "metadata": {},
   "outputs": [
    {
     "data": {
      "image/png": "[encoded data removed]",
      "text/plain": [
       "<matplotlib.figure.Figure at 0xebe06d8>"
      ]
     },
     "metadata": {},
     "output_type": "display_data"
    }
   ],
   "source": [
    "# Applying filter on Dataframe for column 'no_show' for 'No' and 'Yes' and choosing column 'age' to plot trend 'age' Vs .\n",
    "# 'no_show'\n",
    "\n",
    "import seaborn as sns\n",
    "sns.set()\n",
    "\n",
    "plt.figure(figsize=(10,6))\n",
    "df_noshow[df_noshow['no_show'] == 'No']['age'].hist(bins=35,color='green',edgecolor='black',linewidth=0.5,label='Patient Keeping Appointment')\n",
    "df_noshow[df_noshow['no_show'] == 'Yes']['age'].hist(bins=35,color='red',edgecolor='black',linewidth=0.5,label='Patient NOT Keeping Appointment');\n",
    "\n",
    "\n",
    "plt.legend()\n",
    "plt.title('Patient keeping Appointment Vs NOT keeping Appointment by Age')\n",
    "plt.xlabel('Patient Age')\n",
    "plt.ylabel('Frequency');\n"
   ]
  },
  {
   "cell_type": "markdown",
   "metadata": {
    "collapsed": true
   },
   "source": [
    "#### Above histogram shows that more patient honor their appointment in comparison to the patient who does not keep their appointment.\n"
   ]
  },
  {
   "cell_type": "code",
   "execution_count": null,
   "metadata": {},
   "outputs": [],
   "source": []
  },
  {
   "cell_type": "markdown",
   "metadata": {},
   "source": [
    "#### Plot 2:Finding if there is a trend where patients show up for Appointment per Gender and their age."
   ]
  },
  {
   "cell_type": "code",
   "execution_count": 45,
   "metadata": {},
   "outputs": [
    {
     "data": {
      "image/png": "[encoded data removed]",
      "text/plain": [
       "<matplotlib.figure.Figure at 0xebbbb38>"
      ]
     },
     "metadata": {},
     "output_type": "display_data"
    }
   ],
   "source": [
    "# Applying filter on Dataframe for column 'no_show' for 'No' and 'gender' for male Vs female and choosing column 'age' to\n",
    "# plot trend 'age' Vs 'no_show' 'no'\n",
    "\n",
    "df_noshow.query(' no_show == \"No\" and gender == \"F\" ')['age'].hist(bins=35,color='Red',edgecolor='black',linewidth=0.8,alpha=0.8,label='Female');\n",
    "df_noshow.query(' no_show == \"No\" and gender == \"M\" ')['age'].hist(bins=35,color='blue',edgecolor='black',linewidth=0.8,alpha=0.8,label='Male')\n",
    "\n",
    "\n",
    "plt.legend()\n",
    "plt.title('Patient Show for Appointment by Gender')\n",
    "plt.xlabel('Patient Age')\n",
    "plt.ylabel('Frequency');"
   ]
  },
  {
   "cell_type": "markdown",
   "metadata": {
    "collapsed": true
   },
   "source": [
    "#### Above histogram shows that more patient of Gender: Female honor their appointment in comparison to the patient of Gender: Male "
   ]
  },
  {
   "cell_type": "code",
   "execution_count": null,
   "metadata": {},
   "outputs": [],
   "source": []
  },
  {
   "cell_type": "markdown",
   "metadata": {},
   "source": [
    "#### Plot 3:Finding if there is a trend where patients DO NOT show up for Appointment per Gender and their age."
   ]
  },
  {
   "cell_type": "code",
   "execution_count": 46,
   "metadata": {},
   "outputs": [
    {
     "data": {
      "image/png": "[encoded data removed]",
      "text/plain": [
       "<matplotlib.figure.Figure at 0xebabdd8>"
      ]
     },
     "metadata": {},
     "output_type": "display_data"
    }
   ],
   "source": [
    "# Applying filter on Dataframe for column 'no_show' for 'Yes' and 'gender' for male and female,  and choosing column 'age' to\n",
    "# plot trend 'age' Vs 'no_show' 'Yes'\n",
    "\n",
    "df_noshow.query(' no_show == \"Yes\" and gender == \"F\" ')['age'].hist(bins=35,color='Red',edgecolor='black',linewidth=0.5,alpha=0.8,label='Female') \n",
    "df_noshow.query(' no_show == \"Yes\" and gender == \"M\" ')['age'].hist(bins=35,color='Blue',edgecolor='black',linewidth=0.5,alpha=0.8,label='Male')\n",
    "\n",
    "plt.legend()\n",
    "plt.title('Patient No-Show for Appointment by Gender')\n",
    "plt.xlabel('Patient Age')\n",
    "plt.ylabel('Frequency');"
   ]
  },
  {
   "cell_type": "markdown",
   "metadata": {
    "collapsed": true
   },
   "source": [
    "#### From the histogram above it looks like patient with Gender: Female miss appointmnet more versus to Gender: Male."
   ]
  },
  {
   "cell_type": "code",
   "execution_count": null,
   "metadata": {},
   "outputs": [],
   "source": []
  },
  {
   "cell_type": "markdown",
   "metadata": {},
   "source": [
    "#### Plot 4: Finding if there is a trend where patients Do Not show up for Appointment per \"SMS Received\" or  \"SMS Not Received\" and their age."
   ]
  },
  {
   "cell_type": "code",
   "execution_count": 47,
   "metadata": {},
   "outputs": [
    {
     "data": {
      "image/png": "[encoded data removed]",
      "text/plain": [
       "<matplotlib.figure.Figure at 0xebb3b38>"
      ]
     },
     "metadata": {},
     "output_type": "display_data"
    }
   ],
   "source": [
    "# Applying filter on Dataframe for (column 'no_show' for 'No'  and column 'sms_received' True )  and choosing column 'age' and superimposing Dataframe for (column 'no_show' for 'Yes'  and column 'sms_received' False )  and choosing column 'age'\n",
    "# to see if sms-messages has any bearing on patient keeping appointment.\n",
    "\n",
    "df_noshow.query(' no_show == \"No\" and sms_received == 1 ')['age'].hist(bins=35,color='blue',edgecolor='black',linewidth=0.5,alpha=0.8,label='SMS Received') \n",
    "df_noshow.query(' no_show == \"Yes\" and sms_received == 0 ')['age'].hist(bins=35,color='red',edgecolor='black',linewidth=0.5,alpha=0.8,label='SMS NOT Received')\n",
    "\n",
    "plt.legend()\n",
    "plt.title('Patient No-Show for Appointment by \"SMS Received\" and\"SMS NOT Received\"')\n",
    "plt.xlabel('Patient Age')\n",
    "plt.ylabel('Frequency');"
   ]
  },
  {
   "cell_type": "markdown",
   "metadata": {
    "collapsed": true
   },
   "source": [
    "#### Above histogram shows that count of patients who Do Not show up for Appointment did not receive SMS in comparison to patients who received  SMS message.  SMS--message might help patient remind the appointment thus increasing the probability of patient showing up for appointment."
   ]
  },
  {
   "cell_type": "code",
   "execution_count": null,
   "metadata": {},
   "outputs": [],
   "source": []
  },
  {
   "cell_type": "markdown",
   "metadata": {},
   "source": [
    "#### Plot 5: Finding if there is a trend where patients Do Not show on particular week or month. Dataframe masked for \"No-Show\" is \"Yes\"."
   ]
  },
  {
   "cell_type": "code",
   "execution_count": 48,
   "metadata": {},
   "outputs": [
    {
     "data": {
      "image/png": "[encoded data removed]",
      "text/plain": [
       "<matplotlib.figure.Figure at 0xec0d630>"
      ]
     },
     "metadata": {},
     "output_type": "display_data"
    }
   ],
   "source": [
    "# Applying filter on Dataframe where column 'no_show' is 'Yes' and ploting weekday trends\n",
    " \n",
    "orders = [\"Sunday\", \"Monday\", \"Tuesday\", \"Wednesday\", \"Thursday\", \"Friday\", \"Saturday\"]\n",
    "plt.figure(figsize=(8,8))\n",
    "sns.countplot(x='scheduled_day_week_name', data=df_noshow_yes, order=orders);"
   ]
  },
  {
   "cell_type": "markdown",
   "metadata": {},
   "source": [
    "#### Above plot show that weekday Tuesday, and Wednesday have highest \"No-Show\" for doctor's  appointment  "
   ]
  },
  {
   "cell_type": "code",
   "execution_count": null,
   "metadata": {},
   "outputs": [],
   "source": []
  },
  {
   "cell_type": "markdown",
   "metadata": {},
   "source": [
    "#### Plot 6:Neighbourhood trends for \"No-Show\" No and \"No-Show\" Yes"
   ]
  },
  {
   "cell_type": "code",
   "execution_count": 52,
   "metadata": {},
   "outputs": [
    {
     "data": {
      "image/png": "[encoded data removed]",
      "text/plain": [
       "<matplotlib.figure.Figure at 0xeb24278>"
      ]
     },
     "metadata": {},
     "output_type": "display_data"
    }
   ],
   "source": [
    "# Applyed filter on Dataframe based on neighborhood for 'no_show' 'No' and 'Yes'.\n",
    "\n",
    "mask_neighborhood_noshow_no = df_noshow_no.groupby('neighbourhood')['neighbourhood'].count().nlargest(20)\n",
    "mask_neighborhood_noshow_yes = df_noshow_yes.groupby('neighbourhood')['neighbourhood'].count().nlargest(20)\n",
    "\n",
    "\n",
    "plt.figure(figsize=(16,10))\n",
    "mask_neighborhood_noshow_no.plot.bar(color='green',edgecolor='black',linewidth=0.5,alpha=0.8,label='Patient Attended Doctor Appointment')\n",
    "mask_neighborhood_noshow_yes.plot.bar(color='red',edgecolor='black',linewidth=0.5,alpha=0.8,label='Patient Missed Doctor Appointment')\n",
    "\n",
    "\n",
    "plt.legend()\n",
    "plt.title('Top Twenty Neighborhood Patient trend')\n",
    "plt.xlabel('Neighborhood')\n",
    "plt.ylabel('Patient Count');"
   ]
  },
  {
   "cell_type": "markdown",
   "metadata": {},
   "source": [
    "#### Above bar plot show trend in patient's   'no_show'  'No' and 'Yes' by neighborhood."
   ]
  },
  {
   "cell_type": "code",
   "execution_count": null,
   "metadata": {},
   "outputs": [],
   "source": []
  },
  {
   "cell_type": "markdown",
   "metadata": {},
   "source": [
    "#### Plot 7:Monthly trends for \"No-Show\"  Yes"
   ]
  },
  {
   "cell_type": "code",
   "execution_count": 81,
   "metadata": {},
   "outputs": [
    {
     "data": {
      "image/png": "[encoded data removed]",
      "text/plain": [
       "<matplotlib.figure.Figure at 0xeb793c8>"
      ]
     },
     "metadata": {},
     "output_type": "display_data"
    }
   ],
   "source": [
    "# Applyed filter on Dataframe with 'no_show' 'Yes' and looking monthly trends.\n",
    "month_order = ['February','March','April','May','June','July','August','September','October','November','December']\n",
    "\n",
    "\n",
    "plt.figure(figsize=(12,6))\n",
    "sns.countplot(x='scheduled_day_month_name', data=df_noshow_yes, order=month_order)\n",
    "\n",
    "\n",
    "plt.legend()\n",
    "plt.title('Patient \"No-Show\" by Monthly Trend',fontsize=16)\n",
    "plt.xlabel('Month',fontsize=16)\n",
    "plt.ylabel('Patient \"No-Show\" Count',fontsize=16);\n",
    "plt.tick_params(axis='x', labelsize=12)\n",
    "plt.tick_params(axis='y', labelsize=12);"
   ]
  },
  {
   "cell_type": "markdown",
   "metadata": {},
   "source": [
    "#### Above count plot show that \"May\" month has the highest \"No-Show\" Yes in comparison to other months."
   ]
  },
  {
   "cell_type": "code",
   "execution_count": null,
   "metadata": {},
   "outputs": [],
   "source": []
  },
  {
   "cell_type": "markdown",
   "metadata": {},
   "source": [
    "## Draw Conclusions"
   ]
  },
  {
   "cell_type": "markdown",
   "metadata": {
    "collapsed": true
   },
   "source": [
    "#### In my opinion, features in the dataset does not help faithfully determine as to why the patient does not keep their appointment. This may be due to the way data is collected\n",
    "- Binary Values assigned to features like 'scholarship', 'hypertension', 'diabetes', 'alcoholism', '   handicap' and 'sms_received' seems monolithic and does not tell the full story.\n",
    "-  Additional features like Patient's income, Family_members_count, Education_level, type_of_job, and categories within various illness could have helped better analyze the issue of \"No-Show.\"  \n",
    "\n",
    "#### Having said that we could say \n",
    "- SMS messages do help people remind their appointment schedule and help patient to keep the doctor's appointment.\n",
    "- Gender female is more responsible and kept  their doctor appointment more in comparison to gender male for \"No-Show\" No and surpirisly for \"No-Show\" Yes.\n",
    "- Weekday 'Tuessday' and 'Wednsday' have highest \"No-Show\" 'Yes' than other week days.\n",
    "- In top 20 neighborhoods,  \"No-Show', No is more than Yes.  I think it is safe to assume that generally, the patient will keep the appointment.\n",
    "- \"May\" month has the highest \"No-Show\" Yes in comparison to other months. These \"No-Show\" may be because Brazil has days long celebration during the month \"May,\" (ref:https://www.timeanddate.com/holidays/brazil/)  and could be responsible for \"No-Show.\""
   ]
  },
  {
   "cell_type": "code",
   "execution_count": null,
   "metadata": {},
   "outputs": [],
   "source": []
  },
  {
   "cell_type": "markdown",
   "metadata": {
    "collapsed": true
   },
   "source": [
    "### References\n",
    "\n",
    "\n",
    "- https://www.kaggle.com/joniarroba/noshowappointments\n",
    "\n",
    "- https://www.datacamp.com/community/tutorials/seaborn-python-tutorial\n",
    "- http://pandas.pydata.org/pandas-docs/stable/10min.html\n",
    "- https://stackoverflow.com/questions/11067027/python-pandas-re-ordering-columns-in-a-dataframe-based-on-column-name\n",
    "- https://pandas.pydata.org/pandas-docs/stable/generated/pandas.DataFrame.to_string.html\n",
    "- https://python-graph-gallery.com/seaborn/\n",
    "- https://pandas.pydata.org/pandas-docs/stable/generated/pandas.DataFrame.query.html\n",
    "- https://stackoverflow.com/questions/13611065/efficient-way-to-apply-multiple-filters-to-pandas-dataframe-or-series\n"
   ]
  },
  {
   "cell_type": "code",
   "execution_count": null,
   "metadata": {},
   "outputs": [],
   "source": []
  }
 ],
 "metadata": {
  "kernelspec": {
   "display_name": "Python [default]",
   "language": "python",
   "name": "python3"
  },
  "language_info": {
   "codemirror_mode": {
    "name": "ipython",
    "version": 3
   },
   "file_extension": ".py",
   "mimetype": "text/x-python",
   "name": "python",
   "nbconvert_exporter": "python",
   "pygments_lexer": "ipython3",
   "version": "3.6.3"
  }
 },
 "nbformat": 4,
 "nbformat_minor": 2
}
